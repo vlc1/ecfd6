{
 "cells": [
  {
   "cell_type": "markdown",
   "id": "b9f58a58",
   "metadata": {},
   "source": [
    "Installing Julia can be done in different ways, including:\n",
    "\n",
    "- From the [source code](https://github.com/JuliaLang/julia);\n",
    "- From binaries available in the [Downloads](https://julialang.org/downloads/) section of the language' [official website](https://julialang.org/) du language;\n",
    "- Using [juliaup](https://github.com/JuliaLang/juliaup), a **Julia installer and version multiplexer** that allows multiple versions of Julia to be installed simultaneously and easy switching between.\n",
    "\n",
    "I personnally recommand using the later option (**juliaup**), which greatly simplifies upgrading and integration with other environments (Jupyter, Quarto...).\n",
    "\n",
    "<div class=\"alert alert-block alert-info\">\n",
    "<b>Info</b>: the first stable release of Julia (v1.0) <a href=\"https://julialang.org/blog/2018/08/one-point-zero/\">was announced in August 2018</a>. All subsequent versions (v1.9 will soon be released) are backward compatible, and the core developpers (most of whom are part of <a href=\"https://juliahub.com/\">JuliaHub</a>, previously Julia Computing) have <strong>no intention whatsoever to launch a v2.0</strong>.\n",
    "</div>\n",
    "\n",
    "In other words, the language is stable andd there is no reason for it to evolve in a breaking fashion. As a matter of fact, the 1.x versions brought performance improvements (*e.g.* compiling time) and features for future advanced applications (*e.g.* differential programming)."
   ]
  },
  {
   "cell_type": "markdown",
   "id": "d7f4b371",
   "metadata": {},
   "source": [
    "# Juliaup\n",
    "\n",
    "## Installation\n",
    "\n",
    "On **Windows**, simply search \"Julia\" in Microsoft store and install the application (it's actually juliaup which is installed). Equivalently, execute the following command:\n",
    "```bash\n",
    "winget install julia -s msstore\n",
    "```\n",
    "\n",
    "On **Linux**/**Mac OS X**, an installation is available from the official website, which may be downloaded and executed as follows\n",
    "```bash\n",
    "curl -fsSL https://install.julialang.org | sh\n",
    "```\n",
    "\n",
    "Other options exist, read project'[README file](https://github.com/JuliaLang/juliaup/blob/main/README.md) for more info.\n",
    "\n",
    "## Usage\n",
    "\n",
    "Juliaup allows multiple tagged versions of Julia to be installed (including RCs, alphas, betas, patches...).\n",
    "\n",
    "Amongst the most useful subcommands,\n",
    "\n",
    "- List avaiable channels,\n",
    "    ```bash\n",
    "    juliaup list\n",
    "    ```\n",
    "- Install a specific version,\n",
    "    ```bash\n",
    "    juliaup add [VERSION]\n",
    "    ```\n",
    "- Configure the `julia` command to launch a specific version,\n",
    "    ```bash\n",
    "    juliaup default [VERSION]\n",
    "    ```\n",
    "    (otherwise simply specify it on the command line, as in `julia +1.8`).\n"
   ]
  },
  {
   "cell_type": "markdown",
   "id": "9df2adb5",
   "metadata": {},
   "source": [
    "# Jupyter\n",
    "\n",
    "Julia is now installed on your workstation. There exists different ways to execute Julia code:\n",
    "\n",
    "- From the Julia [command-line REPL](https://docs.julialang.org/en/v1/stdlib/REPL/) (*Read*-*Eval*-*Print* *Loop*),\n",
    "- Running scripts,\n",
    "    ```bash\n",
    "    julia script.jl\n",
    "    ```\n",
    "- Using a notebook environment: Julia has its own notebook package, [Pluto](https://github.com/fonsp/Pluto.jl)), but **we'll be using Jupyter today** which most of us are already familiar with.\n",
    "\n",
    "<div class=\"alert alert-block alert-info\">\n",
    "<b>Info</b>: the use of MPI (*e.g.* using the [MPI.jl](https://github.com/JuliaParallel/MPI.jl) wrappers) can only be done through a launcher. From the command-line, type\n",
    "<pre>\n",
    "mpirun -np 4 julia script.jl\n",
    "</pre>\n",
    "to execute <tt>script.jl</tt>.\n",
    "</div>\n",
    "\n",
    "## Installation\n",
    "\n",
    "To execute Julia code in Jupyter notebooks, the Julia kernel for Jupyter must be installed: [IJulia](https://github.com/JuliaLang/IJulia.jl). IJulia is just a regular Julia package, that can be installed via the **package manager** as follows\n",
    "```bash\n",
    "julia -e 'using Pkg; Pkg.add(\"IJulia\")'\n",
    "```\n",
    "\n",
    "Alternatively, from the Julia REPL, enter the Pkg mode (by entering the *closing bracket* symbol, `]`), and exécute the following line (ignore `pkg>` prompt)\n",
    "```\n",
    "pkg> add IJulia\n",
    "```\n",
    "(*backspace* to return to the default Julia mode.)\n",
    "\n",
    "## Usage\n",
    "\n",
    "First things first, clone the GitHub repository where this notebook is hosted\n",
    "```bash\n",
    "git clone https://github.com/vlc1/ecfd6\n",
    "cd ecfd6\n",
    "```\n",
    "\n",
    "Start Jupyter through Julia from the command line,\n",
    "```bash\n",
    "julia -e 'using IJulia; notebook(dir=pwd(), detached=true)'\n",
    "```\n",
    "or from the Julia REPL\n",
    "```\n",
    "julia> using IJulia\n",
    "\n",
    "julia> notebook(dir=pwd(), detached=true)\n",
    "\n",
    "```\n",
    "\n",
    "If all goes well, the Jupyter homepage should open in your default browser... And you should be able to run the following cells."
   ]
  },
  {
   "cell_type": "code",
   "execution_count": 1,
   "id": "649d026f",
   "metadata": {},
   "outputs": [
    {
     "data": {
      "text/plain": [
       "hello (generic function with 2 methods)"
      ]
     },
     "execution_count": 1,
     "metadata": {},
     "output_type": "execute_result"
    }
   ],
   "source": [
    "hello(name=\"World\") = println(\"Hello, $(name)!\")"
   ]
  },
  {
   "cell_type": "code",
   "execution_count": 2,
   "id": "862a3e93",
   "metadata": {},
   "outputs": [
    {
     "name": "stdout",
     "output_type": "stream",
     "text": [
      "Hello, World!\n"
     ]
    }
   ],
   "source": [
    "hello()"
   ]
  },
  {
   "cell_type": "code",
   "execution_count": 3,
   "id": "3f64a565",
   "metadata": {},
   "outputs": [
    {
     "name": "stdout",
     "output_type": "stream",
     "text": [
      "Hello, ECFD6!\n"
     ]
    }
   ],
   "source": [
    "hello(\"ECFD6\")"
   ]
  }
 ],
 "metadata": {
  "kernelspec": {
   "display_name": "Julia 1.8.5",
   "language": "julia",
   "name": "julia-1.8"
  },
  "language_info": {
   "file_extension": ".jl",
   "mimetype": "application/julia",
   "name": "julia",
   "version": "1.8.5"
  }
 },
 "nbformat": 4,
 "nbformat_minor": 5
}
