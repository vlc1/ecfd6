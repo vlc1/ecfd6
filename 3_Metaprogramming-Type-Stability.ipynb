{
 "cells": [
  {
   "cell_type": "markdown",
   "id": "0789a6cc",
   "metadata": {},
   "source": [
    "# Interoperability with C\n",
    "\n",
    "Julia is interoperable with C, provided it is available as a dynamic Library. In the example below (borrowed from Steven G. Johnson's [lecture notes](https://github.com/mitmath/18S096/blob/master/lectures/lecture1/Boxes-and-registers.ipynb)), the `sum` function is implemented in C, and a Julia wrapper is created."
   ]
  },
  {
   "cell_type": "code",
   "execution_count": 1,
   "id": "db8d2a5f",
   "metadata": {},
   "outputs": [
    {
     "data": {
      "text/plain": [
       "c_sum (generic function with 1 method)"
      ]
     },
     "execution_count": 1,
     "metadata": {},
     "output_type": "execute_result"
    }
   ],
   "source": [
    "using Libdl\n",
    "\n",
    "C_code = \"\"\"\n",
    "#include <stdio.h>\n",
    "double c_sum(size_t n, double *X) {\n",
    "    double s = 0.0;\n",
    "    for (size_t i = 0; i < n; ++i) {\n",
    "        s += X[i];\n",
    "    }\n",
    "    return s;\n",
    "}\n",
    "\"\"\"\n",
    "\n",
    "const Clib = tempname()   # make a temporary file\n",
    "\n",
    "# compile to a shared library by piping C_code to gcc\n",
    "# (works only if you have gcc installed):\n",
    "open(`gcc -fPIC -O3 -ffast-math -msse3 -xc -shared -o $(Clib * \".\" * Libdl.dlext) -`, \"w\") do f\n",
    "    print(f, C_code) \n",
    "end\n",
    "\n",
    "# define a Julia function that calls the C function:\n",
    "c_sum(X::Array{Float64}) = ccall((\"c_sum\", Clib), Float64, (Csize_t, Ptr{Float64}), length(X), X)"
   ]
  },
  {
   "cell_type": "code",
   "execution_count": 2,
   "id": "9ca07b24",
   "metadata": {},
   "outputs": [
    {
     "name": "stdout",
     "output_type": "stream",
     "text": [
      "  0.000004 seconds (1 allocation: 16 bytes)\n",
      "  0.000004 seconds (1 allocation: 16 bytes)\n"
     ]
    },
    {
     "data": {
      "text/plain": [
       "48.673108263025085"
      ]
     },
     "execution_count": 2,
     "metadata": {},
     "output_type": "execute_result"
    }
   ],
   "source": [
    "a = rand(100)\n",
    "c_sum(a), sum(a)\n",
    "@time c_sum(a)\n",
    "@time sum(a)"
   ]
  },
  {
   "cell_type": "markdown",
   "id": "0920046c",
   "metadata": {},
   "source": [
    "This is how the low-level linear algebra is performed in Julia, *i.e.* `axpy!`, `axpby!` just wrap Blas/MKL... libraries, whereas the standard LinearAlgebra module simply wraps [SuiteSparse](https://people.engr.tamu.edu/davis/suitesparse.html).\n",
    "\n",
    "It's actually pretty straightforward to wrap a C/Fortran library, build binaries for various platforms, write a wrapper and ultimately make it as simple as\n",
    "```\n",
    "pkg> add MyFancyLibrary\n",
    "```\n",
    "to users. A typically workflow is\n",
    "\n",
    "1. Start from a public repository when the C code is hosted with a Makefile/CMake... build system,\n",
    "1. Use [BinaryBuilder.jl](https://github.com/JuliaPackaging/BinaryBuilder.jl) to write a script for the build process and automatically generate and register a Julia package (`.jll`) which generate binaries for different platform,\n",
    "1. Write a Julia package with a user-friendly (\"Julia\") interface.\n",
    "\n",
    "In the same way that calling C from Julia, it's also possible to pass Julia functions as callback functions to C functions, etc..."
   ]
  },
  {
   "cell_type": "markdown",
   "id": "f559f464",
   "metadata": {},
   "source": [
    "# Metaprogramming\n",
    "\n",
    "(This section is heavily based on a notebook by Jeff Bezanson available [here](https://github.com/mitmath/18S096/blob/master/lectures/lecture7/Metaprogramming.ipynb).)\n",
    "\n",
    "A \"meta\" program is a program that manipulates programs. While Julia can generate specialized code for you (and the compiler is usually smart enough to infer a lot of information, *e.g.* constant propagation), sometimes that's not enough, and you need to write a program to explicitly generate the code needed for a specialized problem.\n",
    "\n",
    "Julia allows us to talk in a \"meta\" way (\"one level up\"), about Julia code, that is to \"treat code as data\" and manipulate it as just another object in Julia. (This is very similar to Lisp.)\n",
    "\n",
    "## Symbols and expressions\n",
    "\n",
    "Building block to represent programs include unevaluated symbols and expressions. A symbol is defined as"
   ]
  },
  {
   "cell_type": "code",
   "execution_count": 3,
   "id": "4e35a779",
   "metadata": {},
   "outputs": [
    {
     "data": {
      "text/plain": [
       ":x"
      ]
     },
     "execution_count": 3,
     "metadata": {},
     "output_type": "execute_result"
    }
   ],
   "source": [
    ":x"
   ]
  },
  {
   "cell_type": "code",
   "execution_count": 4,
   "id": "6731a28d",
   "metadata": {},
   "outputs": [
    {
     "data": {
      "text/plain": [
       "Symbol"
      ]
     },
     "execution_count": 4,
     "metadata": {},
     "output_type": "execute_result"
    }
   ],
   "source": [
    "typeof(:x)"
   ]
  },
  {
   "cell_type": "markdown",
   "id": "6a6dac38",
   "metadata": {},
   "source": [
    "Symbols can be evaluated to retrieve the value they are associated with."
   ]
  },
  {
   "cell_type": "code",
   "execution_count": 5,
   "id": "49b06475",
   "metadata": {},
   "outputs": [
    {
     "data": {
      "text/plain": [
       "-1"
      ]
     },
     "execution_count": 5,
     "metadata": {},
     "output_type": "execute_result"
    }
   ],
   "source": [
    "a = -1"
   ]
  },
  {
   "cell_type": "code",
   "execution_count": 6,
   "id": "eedda462",
   "metadata": {},
   "outputs": [
    {
     "data": {
      "text/plain": [
       "-1"
      ]
     },
     "execution_count": 6,
     "metadata": {},
     "output_type": "execute_result"
    }
   ],
   "source": [
    "eval(:a)"
   ]
  },
  {
   "cell_type": "markdown",
   "id": "0c75fe1f",
   "metadata": {},
   "source": [
    "Operators and function names are also symbols."
   ]
  },
  {
   "cell_type": "code",
   "execution_count": 7,
   "id": "b3d3a29b",
   "metadata": {},
   "outputs": [
    {
     "data": {
      "text/plain": [
       ":sin"
      ]
     },
     "execution_count": 7,
     "metadata": {},
     "output_type": "execute_result"
    }
   ],
   "source": [
    "sym = :sin"
   ]
  },
  {
   "cell_type": "code",
   "execution_count": 8,
   "id": "ea37ef14",
   "metadata": {},
   "outputs": [
    {
     "data": {
      "text/plain": [
       "sin (generic function with 14 methods)"
      ]
     },
     "execution_count": 8,
     "metadata": {},
     "output_type": "execute_result"
    }
   ],
   "source": [
    "eval(sym)"
   ]
  },
  {
   "cell_type": "markdown",
   "id": "7454e2f0",
   "metadata": {},
   "source": [
    "Symbols can be combined to form expressions (`Expr`)."
   ]
  },
  {
   "cell_type": "code",
   "execution_count": 9,
   "id": "0f9d4bc8",
   "metadata": {},
   "outputs": [
    {
     "data": {
      "text/plain": [
       ":(sin(a))"
      ]
     },
     "execution_count": 9,
     "metadata": {},
     "output_type": "execute_result"
    }
   ],
   "source": [
    "expr = :(sin(a))"
   ]
  },
  {
   "cell_type": "code",
   "execution_count": 10,
   "id": "71f50daf",
   "metadata": {},
   "outputs": [
    {
     "name": "stdout",
     "output_type": "stream",
     "text": [
      "Expr\n",
      "  head: Symbol call\n",
      "  args: Array{Any}((2,))\n",
      "    1: Symbol sin\n",
      "    2: Symbol a\n"
     ]
    }
   ],
   "source": [
    "dump(expr)"
   ]
  },
  {
   "cell_type": "markdown",
   "id": "83df0912",
   "metadata": {},
   "source": [
    "Expressions can in turn be combined with symbols to form more complex expressions. This can be done explicitly"
   ]
  },
  {
   "cell_type": "code",
   "execution_count": 11,
   "id": "28de18fb",
   "metadata": {},
   "outputs": [
    {
     "data": {
      "text/plain": [
       ":(sin(π * x))"
      ]
     },
     "execution_count": 11,
     "metadata": {},
     "output_type": "execute_result"
    }
   ],
   "source": [
    "Expr(:call, :sin, Expr(:call, :*, :π, :x))"
   ]
  },
  {
   "cell_type": "markdown",
   "id": "ed906190",
   "metadata": {},
   "source": [
    "or using interpolation (similarly to string interpolation in the second notebook)."
   ]
  },
  {
   "cell_type": "code",
   "execution_count": 12,
   "id": "1b453d86",
   "metadata": {},
   "outputs": [
    {
     "data": {
      "text/plain": [
       ":(sin(π * x))"
      ]
     },
     "execution_count": 12,
     "metadata": {},
     "output_type": "execute_result"
    }
   ],
   "source": [
    "expr = :(π * x)\n",
    ":(sin($expr))"
   ]
  },
  {
   "cell_type": "markdown",
   "id": "c27d0bd5",
   "metadata": {},
   "source": [
    "# Macros\n",
    "\n",
    "*Macros* provide a particular use pattern of metaprogramming: replacing one expression with another, in-place, right after parsing.\n",
    "\n",
    "The [Julia manual](https://docs.julialang.org/en/v1/manual/metaprogramming/) puts it like this: macros map a tuple of argument *expressions* to a returned *expression*.\n",
    "\n",
    "Macros are useful in several cases:\n",
    "\n",
    "- to provide a specific notation different than what can normally be written in the language,\n",
    "- to rearrange or delay evaluation of code,\n",
    "- to eliminate boilerplate (repetitive) code,\n",
    "- to automatically generate complex code that would be painful by hand,\n",
    "- to unroll loops for efficiency,\n",
    "- to inline code for efficiency.\n",
    "\n",
    "A trivial example of defining a macro is the following, which runs whatever code it is passed two times."
   ]
  },
  {
   "cell_type": "code",
   "execution_count": 13,
   "id": "5adf45f9",
   "metadata": {},
   "outputs": [
    {
     "data": {
      "text/plain": [
       "@twice (macro with 1 method)"
      ]
     },
     "execution_count": 13,
     "metadata": {},
     "output_type": "execute_result"
    }
   ],
   "source": [
    "macro twice(ex)\n",
    "    quote\n",
    "        $ex\n",
    "        $ex\n",
    "    end\n",
    "end"
   ]
  },
  {
   "cell_type": "code",
   "execution_count": 14,
   "id": "7796cc39",
   "metadata": {},
   "outputs": [
    {
     "name": "stdout",
     "output_type": "stream",
     "text": [
      "0\n",
      "0\n"
     ]
    }
   ],
   "source": [
    "x = 0\n",
    "@twice println(x)"
   ]
  },
  {
   "cell_type": "markdown",
   "id": "8e6e18e1",
   "metadata": {},
   "source": [
    "### Macros for numerical performance: Horner's method\n",
    "\n",
    "There are many interesting examples of macros in `Base`. One that is accessible is Horner's method for evaluating a polynomial:\n",
    "$$\n",
    "p \\colon x \\mapsto a_n x^n + a_{n-1} x^{n-1} + \\cdots + a_1 x^1 + a_0\n",
    "$$\n",
    "may be evaluated efficiently as\n",
    "$$\n",
    "p \\colon x \\mapsto a_0 + x \\left (a_1 + \\cdots x \\left ( a_{n-2} + \\cdots + x \\left (a_{n-1} + x a_n \\right ) \\cdots \\right ) \\right )\n",
    "$$\n",
    "with only $n$ multiplications.\n",
    "\n",
    "The obvious way to do this is with a `for` loop. But if we know the polynomial *at compile time*, this loop may be unrolled using metaprogramming. This is implemented in the `Math` module in `math.jl` in `Base`, so the name of the macro (which is not exported) is `@Base.Math.horner`."
   ]
  },
  {
   "cell_type": "code",
   "execution_count": 15,
   "id": "1d045da9",
   "metadata": {},
   "outputs": [
    {
     "data": {
      "text/plain": [
       "@horner (macro with 1 method)"
      ]
     },
     "execution_count": 15,
     "metadata": {},
     "output_type": "execute_result"
    }
   ],
   "source": [
    "macro horner(x, p...)\n",
    "    ex = esc(p[end])\n",
    "    for i = length(p)-1:-1:1\n",
    "        ex = :( $(esc(p[i])) + t * $ex )  # actually uses `muladd`\n",
    "    end\n",
    "    Expr(:block, :(t = $(esc(x))), ex)\n",
    "end"
   ]
  },
  {
   "cell_type": "markdown",
   "id": "fbd6bea8",
   "metadata": {},
   "source": [
    "This is called as follows: to evaluate the polynomial $p \\colon x \\mapsto 2 + 3x + 4x^2$ at $x=3$,"
   ]
  },
  {
   "cell_type": "code",
   "execution_count": 16,
   "id": "d158cd8f",
   "metadata": {},
   "outputs": [
    {
     "data": {
      "text/plain": [
       "182"
      ]
     },
     "execution_count": 16,
     "metadata": {},
     "output_type": "execute_result"
    }
   ],
   "source": [
    "x = 3\n",
    "@horner(x, 2, 3, 4, 5)"
   ]
  },
  {
   "cell_type": "markdown",
   "id": "b1eff835",
   "metadata": {},
   "source": [
    "To see what the macro does to this call, use `macroexpand`"
   ]
  },
  {
   "cell_type": "code",
   "execution_count": 17,
   "id": "536e115c",
   "metadata": {},
   "outputs": [
    {
     "data": {
      "text/plain": [
       "quote\n",
       "    var\"#44#t\" = x\n",
       "    2 + var\"#44#t\" * (3 + var\"#44#t\" * (4 + var\"#44#t\" * (5 + var\"#44#t\" * (6 + var\"#44#t\" * (7 + var\"#44#t\" * (8 + var\"#44#t\" * (9 + var\"#44#t\" * 10)))))))\n",
       "end"
      ]
     },
     "execution_count": 17,
     "metadata": {},
     "output_type": "execute_result"
    }
   ],
   "source": [
    "macroexpand(Main, :(@horner(x, 2, 3, 4, 5, 6, 7, 8, 9, 10)))"
   ]
  },
  {
   "cell_type": "markdown",
   "id": "28a56d5e",
   "metadata": {},
   "source": [
    "# `@generated` functions\n",
    "\n",
    "Another form of metaprogramming available in Julia. The idea is to generate code based on types instead of the input expressions.\n",
    "\n",
    "The Julia parser and compiler have become some good over the years that it's actually rarely used anymore.\n",
    "\n",
    "An example we came across this week was the following: imagine a tuple of length `N` with `M ≤ N` elements are `<:AbstractVector`, whose elements we wish to access with a tuple of `<:Integer`s of length `M`."
   ]
  },
  {
   "cell_type": "code",
   "execution_count": 18,
   "id": "ca03eb94",
   "metadata": {},
   "outputs": [],
   "source": [
    "_getindex(::Type{<:Number}, arg, _) = false, :(getindex($arg))\n",
    "_getindex(::Type{<:AbstractVector}, arg, ind) = true, :(getindex($arg, $ind))\n",
    "\n",
    "@generated function Base.getindex(args::Tuple, inds::Tuple)\n",
    "    j, expr = 1, Expr(:tuple)\n",
    "\n",
    "    for (i, T) in enumerate(fieldtypes(args))\n",
    "        next, arg = _getindex(T, :(args[$i]), :(inds[$j]))\n",
    "        j += next\n",
    "        push!(expr.args, arg)\n",
    "    end\n",
    "\n",
    "    expr\n",
    "end         "
   ]
  },
  {
   "cell_type": "code",
   "execution_count": 19,
   "id": "d91fe883",
   "metadata": {},
   "outputs": [
    {
     "data": {
      "text/plain": [
       "((1, 2:3, 4:5), (1, 2))"
      ]
     },
     "execution_count": 19,
     "metadata": {},
     "output_type": "execute_result"
    }
   ],
   "source": [
    "args, inds = (1, 2:3, 4:5), (1, 2)"
   ]
  },
  {
   "cell_type": "code",
   "execution_count": 20,
   "id": "e55ebd75",
   "metadata": {},
   "outputs": [
    {
     "data": {
      "text/plain": [
       "(1, 2, 5)"
      ]
     },
     "execution_count": 20,
     "metadata": {},
     "output_type": "execute_result"
    }
   ],
   "source": [
    "args[inds]"
   ]
  },
  {
   "cell_type": "code",
   "execution_count": 21,
   "id": "09f6ef1e",
   "metadata": {},
   "outputs": [
    {
     "name": "stdout",
     "output_type": "stream",
     "text": [
      "MethodInstance for getindex(::Tuple{Int64, UnitRange{Int64}, UnitRange{Int64}}, ::Tuple{Int64, Int64})\n",
      "  from getindex(args::Tuple, inds::Tuple) in Main at In[18]:4\n",
      "Arguments\n",
      "  #self#\u001b[36m::Core.Const(getindex)\u001b[39m\n",
      "  args\u001b[36m::Tuple{Int64, UnitRange{Int64}, UnitRange{Int64}}\u001b[39m\n",
      "  inds\u001b[36m::Tuple{Int64, Int64}\u001b[39m\n",
      "Body\u001b[36m::Tuple{Int64, Int64, Int64}\u001b[39m\n",
      "\u001b[90m1 ─\u001b[39m %1 = Base.getindex(args, 1)\u001b[36m::Int64\u001b[39m\n",
      "\u001b[90m│  \u001b[39m %2 = Main.getindex(%1)\u001b[36m::Int64\u001b[39m\n",
      "\u001b[90m│  \u001b[39m %3 = Base.getindex(args, 2)\u001b[36m::UnitRange{Int64}\u001b[39m\n",
      "\u001b[90m│  \u001b[39m %4 = Base.getindex(inds, 1)\u001b[36m::Int64\u001b[39m\n",
      "\u001b[90m│  \u001b[39m %5 = Main.getindex(%3, %4)\u001b[36m::Int64\u001b[39m\n",
      "\u001b[90m│  \u001b[39m %6 = Base.getindex(args, 3)\u001b[36m::UnitRange{Int64}\u001b[39m\n",
      "\u001b[90m│  \u001b[39m %7 = Base.getindex(inds, 2)\u001b[36m::Int64\u001b[39m\n",
      "\u001b[90m│  \u001b[39m %8 = Main.getindex(%6, %7)\u001b[36m::Int64\u001b[39m\n",
      "\u001b[90m│  \u001b[39m %9 = Core.tuple(%2, %5, %8)\u001b[36m::Tuple{Int64, Int64, Int64}\u001b[39m\n",
      "\u001b[90m└──\u001b[39m      return %9\n",
      "\n"
     ]
    }
   ],
   "source": [
    "@code_warntype args[inds]"
   ]
  },
  {
   "cell_type": "markdown",
   "id": "83743d49",
   "metadata": {},
   "source": [
    "# Type instability\n",
    "\n",
    "Although this was covered quickly, we introduced the concept of parameterized types to avoid"
   ]
  },
  {
   "cell_type": "code",
   "execution_count": 22,
   "id": "f2669435",
   "metadata": {},
   "outputs": [],
   "source": [
    "struct MyBadType\n",
    "    a\n",
    "    b\n",
    "end"
   ]
  },
  {
   "cell_type": "markdown",
   "id": "fd49f416",
   "metadata": {},
   "source": [
    "which is equivalent to\n",
    "```\n",
    "struct MyBadType\n",
    "    a::Any\n",
    "    b::Any\n",
    "end\n",
    "```\n",
    "and instead use"
   ]
  },
  {
   "cell_type": "code",
   "execution_count": 23,
   "id": "da63e52f",
   "metadata": {},
   "outputs": [],
   "source": [
    "struct MyGoodType{A,B}\n",
    "    a::A\n",
    "    b::B\n",
    "end"
   ]
  },
  {
   "cell_type": "code",
   "execution_count": 24,
   "id": "80431fc3",
   "metadata": {},
   "outputs": [],
   "source": [
    "Base.sum(this::Union{MyBadType,MyGoodType}) = this.a + this.b"
   ]
  },
  {
   "cell_type": "code",
   "execution_count": 25,
   "id": "bafcadf6",
   "metadata": {},
   "outputs": [],
   "source": [
    "using BenchmarkTools"
   ]
  },
  {
   "cell_type": "code",
   "execution_count": 26,
   "id": "0700e7b2",
   "metadata": {},
   "outputs": [],
   "source": [
    "n = 1_000_000\n",
    "bad = [MyBadType(rand(Float64), rand(Float64)) for i in 1:n]\n",
    "good = [MyGoodType(rand(Float64), rand(Float64)) for i in 1:n];"
   ]
  },
  {
   "cell_type": "code",
   "execution_count": 27,
   "id": "821c40ab",
   "metadata": {},
   "outputs": [
    {
     "name": "stdout",
     "output_type": "stream",
     "text": [
      "  0.095506 seconds (2.00 M allocations: 30.518 MiB, 57.30% gc time)\n"
     ]
    },
    {
     "data": {
      "text/plain": [
       "1.000240516691319e6"
      ]
     },
     "execution_count": 27,
     "metadata": {},
     "output_type": "execute_result"
    }
   ],
   "source": [
    "sum(sum, bad); @time sum(sum, bad)"
   ]
  },
  {
   "cell_type": "code",
   "execution_count": 28,
   "id": "286e5292",
   "metadata": {},
   "outputs": [
    {
     "name": "stdout",
     "output_type": "stream",
     "text": [
      "  0.000846 seconds (1 allocation: 16 bytes)\n"
     ]
    },
    {
     "data": {
      "text/plain": [
       "999734.8910217271"
      ]
     },
     "execution_count": 28,
     "metadata": {},
     "output_type": "execute_result"
    }
   ],
   "source": [
    "sum(sum, good); @time sum(sum, good)"
   ]
  },
  {
   "cell_type": "markdown",
   "id": "e9f8070a",
   "metadata": {},
   "source": [
    "The problem can easily be detected using the `@code_warntype` macro."
   ]
  },
  {
   "cell_type": "code",
   "execution_count": 29,
   "id": "3ed1bf63",
   "metadata": {},
   "outputs": [
    {
     "name": "stdout",
     "output_type": "stream",
     "text": [
      "MethodInstance for sum(::MyBadType)\n",
      "  from sum(this::Union{MyBadType, MyGoodType}) in Main at In[24]:1\n",
      "Arguments\n",
      "  #self#\u001b[36m::Core.Const(sum)\u001b[39m\n",
      "  this\u001b[36m::MyBadType\u001b[39m\n",
      "Body\u001b[91m\u001b[1m::Any\u001b[22m\u001b[39m\n",
      "\u001b[90m1 ─\u001b[39m %1 = Base.getproperty(this, :a)\u001b[91m\u001b[1m::Any\u001b[22m\u001b[39m\n",
      "\u001b[90m│  \u001b[39m %2 = Base.getproperty(this, :b)\u001b[91m\u001b[1m::Any\u001b[22m\u001b[39m\n",
      "\u001b[90m│  \u001b[39m %3 = (%1 + %2)\u001b[91m\u001b[1m::Any\u001b[22m\u001b[39m\n",
      "\u001b[90m└──\u001b[39m      return %3\n",
      "\n"
     ]
    }
   ],
   "source": [
    "@code_warntype sum(first(bad))"
   ]
  },
  {
   "cell_type": "markdown",
   "id": "59e1fe12",
   "metadata": {},
   "source": [
    "The compiler isn't able to infer the return type at compile type."
   ]
  },
  {
   "cell_type": "code",
   "execution_count": 30,
   "id": "83f523cc",
   "metadata": {},
   "outputs": [
    {
     "name": "stdout",
     "output_type": "stream",
     "text": [
      "MethodInstance for sum(::MyGoodType{Float64, Float64})\n",
      "  from sum(this::Union{MyBadType, MyGoodType}) in Main at In[24]:1\n",
      "Arguments\n",
      "  #self#\u001b[36m::Core.Const(sum)\u001b[39m\n",
      "  this\u001b[36m::MyGoodType{Float64, Float64}\u001b[39m\n",
      "Body\u001b[36m::Float64\u001b[39m\n",
      "\u001b[90m1 ─\u001b[39m %1 = Base.getproperty(this, :a)\u001b[36m::Float64\u001b[39m\n",
      "\u001b[90m│  \u001b[39m %2 = Base.getproperty(this, :b)\u001b[36m::Float64\u001b[39m\n",
      "\u001b[90m│  \u001b[39m %3 = (%1 + %2)\u001b[36m::Float64\u001b[39m\n",
      "\u001b[90m└──\u001b[39m      return %3\n",
      "\n"
     ]
    }
   ],
   "source": [
    "@code_warntype sum(first(good))"
   ]
  },
  {
   "cell_type": "markdown",
   "id": "9b04f0c7",
   "metadata": {},
   "source": [
    "The issue can sneak in very easily."
   ]
  },
  {
   "cell_type": "code",
   "execution_count": 31,
   "id": "3fe3816c",
   "metadata": {},
   "outputs": [
    {
     "data": {
      "text/plain": [
       "mysum (generic function with 1 method)"
      ]
     },
     "execution_count": 31,
     "metadata": {},
     "output_type": "execute_result"
    }
   ],
   "source": [
    "function mysum(a)\n",
    "    s = 0\n",
    "    for x in a\n",
    "        s += x\n",
    "    end\n",
    "    return s\n",
    "end"
   ]
  },
  {
   "cell_type": "code",
   "execution_count": 32,
   "id": "101760b6",
   "metadata": {},
   "outputs": [
    {
     "name": "stdout",
     "output_type": "stream",
     "text": [
      "MethodInstance for mysum(::Vector{Int64})\n",
      "  from mysum(a) in Main at In[31]:1\n",
      "Arguments\n",
      "  #self#\u001b[36m::Core.Const(mysum)\u001b[39m\n",
      "  a\u001b[36m::Vector{Int64}\u001b[39m\n",
      "Locals\n",
      "  @_3\u001b[33m\u001b[1m::Union{Nothing, Tuple{Int64, Int64}}\u001b[22m\u001b[39m\n",
      "  s\u001b[36m::Int64\u001b[39m\n",
      "  x\u001b[36m::Int64\u001b[39m\n",
      "Body\u001b[36m::Int64\u001b[39m\n",
      "\u001b[90m1 ─\u001b[39m       (s = 0)\n",
      "\u001b[90m│  \u001b[39m %2  = a\u001b[36m::Vector{Int64}\u001b[39m\n",
      "\u001b[90m│  \u001b[39m       (@_3 = Base.iterate(%2))\n",
      "\u001b[90m│  \u001b[39m %4  = (@_3 === nothing)\u001b[36m::Bool\u001b[39m\n",
      "\u001b[90m│  \u001b[39m %5  = Base.not_int(%4)\u001b[36m::Bool\u001b[39m\n",
      "\u001b[90m└──\u001b[39m       goto #4 if not %5\n",
      "\u001b[90m2 ┄\u001b[39m %7  = @_3\u001b[36m::Tuple{Int64, Int64}\u001b[39m\n",
      "\u001b[90m│  \u001b[39m       (x = Core.getfield(%7, 1))\n",
      "\u001b[90m│  \u001b[39m %9  = Core.getfield(%7, 2)\u001b[36m::Int64\u001b[39m\n",
      "\u001b[90m│  \u001b[39m       (s = s + x)\n",
      "\u001b[90m│  \u001b[39m       (@_3 = Base.iterate(%2, %9))\n",
      "\u001b[90m│  \u001b[39m %12 = (@_3 === nothing)\u001b[36m::Bool\u001b[39m\n",
      "\u001b[90m│  \u001b[39m %13 = Base.not_int(%12)\u001b[36m::Bool\u001b[39m\n",
      "\u001b[90m└──\u001b[39m       goto #4 if not %13\n",
      "\u001b[90m3 ─\u001b[39m       goto #2\n",
      "\u001b[90m4 ┄\u001b[39m       return s\n",
      "\n"
     ]
    }
   ],
   "source": [
    "a = rand(1:1:10, 1_000)\n",
    "@code_warntype mysum(a)"
   ]
  },
  {
   "cell_type": "code",
   "execution_count": null,
   "id": "51b77bf7",
   "metadata": {},
   "outputs": [],
   "source": []
  }
 ],
 "metadata": {
  "kernelspec": {
   "display_name": "Julia 1.8.5",
   "language": "julia",
   "name": "julia-1.8"
  },
  "language_info": {
   "file_extension": ".jl",
   "mimetype": "application/julia",
   "name": "julia",
   "version": "1.8.5"
  }
 },
 "nbformat": 4,
 "nbformat_minor": 5
}
