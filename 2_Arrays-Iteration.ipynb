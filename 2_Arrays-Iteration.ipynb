{
 "cells": [
  {
   "cell_type": "markdown",
   "id": "39b7d6aa",
   "metadata": {},
   "source": [
    "Julia has a few well designed interfaces, including **arrays** and **iterators**.\n",
    "\n",
    "# Arrays\n",
    "\n",
    "## Built-in arrays\n",
    "\n",
    "Just like Fortran, Julia has really good support for multi-dimensional arrays (1-based by default). Julia has a default implementation of arrays that use **column-major order**.\n",
    "\n",
    "For small arrays, a convenient syntax uses semi-columns to separate the elements along any given number of dimensions (`;` for the first, `;;` for the second...)."
   ]
  },
  {
   "cell_type": "code",
   "execution_count": 1,
   "id": "8937aefa",
   "metadata": {},
   "outputs": [
    {
     "data": {
      "text/plain": [
       "4×3×2 Array{Int64, 3}:\n",
       "[:, :, 1] =\n",
       " 1  5   9\n",
       " 2  6  10\n",
       " 3  7  11\n",
       " 4  8  12\n",
       "\n",
       "[:, :, 2] =\n",
       " -1  -5   -9\n",
       " -2  -6  -10\n",
       " -3  -7  -11\n",
       " -4  -8  -12"
      ]
     },
     "execution_count": 1,
     "metadata": {},
     "output_type": "execute_result"
    }
   ],
   "source": [
    "a = [ 1;  2;  3;  4;;  5;  6;  7;  8;;  9;  10;  11;  12;;;\n",
    "     -1; -2; -3; -4;; -5; -6; -7; -8;; -9; -10; -11; -12]"
   ]
  },
  {
   "cell_type": "markdown",
   "id": "2b3adb08",
   "metadata": {},
   "source": [
    "The brackets notation is used to read (`getindex`) or write (`setindex!`) an element:"
   ]
  },
  {
   "cell_type": "code",
   "execution_count": 2,
   "id": "880ee494",
   "metadata": {},
   "outputs": [
    {
     "data": {
      "text/plain": [
       "-4"
      ]
     },
     "execution_count": 2,
     "metadata": {},
     "output_type": "execute_result"
    }
   ],
   "source": [
    "a[4, 1, 2]"
   ]
  },
  {
   "cell_type": "code",
   "execution_count": 3,
   "id": "8b2785f9",
   "metadata": {},
   "outputs": [
    {
     "data": {
      "text/plain": [
       "4×3×2 Array{Int64, 3}:\n",
       "[:, :, 1] =\n",
       " 1  5   9\n",
       " 2  6  10\n",
       " 3  7  11\n",
       " 4  8  12\n",
       "\n",
       "[:, :, 2] =\n",
       "  -1  -5   -9\n",
       "  -2  -6  -10\n",
       "  -3  -7  -11\n",
       " 100  -8  -12"
      ]
     },
     "execution_count": 3,
     "metadata": {},
     "output_type": "execute_result"
    }
   ],
   "source": [
    "a[4, 1, 2] = 100\n",
    "a"
   ]
  },
  {
   "cell_type": "markdown",
   "id": "148b5ecf",
   "metadata": {},
   "source": [
    "## Custom `AbstractArray`s\n",
    "\n",
    "Anything that inherents from `AbstractArray{T,N}` (a `N`-dimensional array of elements of type `T`) will be able to use default implementations of various algorithms (`reduce`, `mapreduce`...) provided a minimal set of methods are added to `Base` functions:\n",
    "\n",
    "- `Base.size`,\n",
    "- `Base.getindex`,\n",
    "- (`Base.setindex!` for mutable arrays).\n",
    "\n",
    "Let's assume you want to create our own `MetaArray` which wraps another array together with some metadata (the position of a field, *i.e.* cell-centered, face-centered, ..., the name of a variable, etc.)."
   ]
  },
  {
   "cell_type": "code",
   "execution_count": 4,
   "id": "aac339aa",
   "metadata": {},
   "outputs": [],
   "source": [
    "struct MetaArray{T,N,A<:AbstractArray{T,N},D} <: AbstractArray{T,N}\n",
    "    data::A\n",
    "    meta::D\n",
    "end"
   ]
  },
  {
   "cell_type": "markdown",
   "id": "f03be9c5",
   "metadata": {},
   "source": [
    "This is an **immutable** type (to make **mutable**, simply prepend `mutable` to `struct`). So we only need define a couple of getter functions."
   ]
  },
  {
   "cell_type": "code",
   "execution_count": 5,
   "id": "ca3958d6",
   "metadata": {},
   "outputs": [
    {
     "data": {
      "text/plain": [
       "metadata (generic function with 1 method)"
      ]
     },
     "execution_count": 5,
     "metadata": {},
     "output_type": "execute_result"
    }
   ],
   "source": [
    "Base.parent(this::MetaArray) = this.data\n",
    "metadata(this::MetaArray) = this.meta"
   ]
  },
  {
   "cell_type": "markdown",
   "id": "075c6f74",
   "metadata": {},
   "source": [
    "Adding the methods listed above is done below."
   ]
  },
  {
   "cell_type": "code",
   "execution_count": 6,
   "id": "90b79477",
   "metadata": {},
   "outputs": [],
   "source": [
    "Base.size(this::MetaArray) = size(parent(this))\n",
    "Base.getindex(this::MetaArray{T,N}, ind::Vararg{Int,N}) where {T,N} =\n",
    "    getindex(parent(this), ind...)\n",
    "Base.setindex!(this::MetaArray{T,N}, val, ind::Vararg{Int,N}) where {T,N} =\n",
    "    setindex!(parent(this), val, ind...)"
   ]
  },
  {
   "cell_type": "markdown",
   "id": "1140ff93",
   "metadata": {},
   "source": [
    "It is also possible to work with 0-based (or anything really, just like in Fortran), a method for `Base.axes` also needs to be added.\n",
    "\n",
    "<div class=\"alert alert-block alert-info\">\n",
    "    <b>Info</b>: a good practice in Julia is to append a <i>bang</i> (<tt>!</tt>) to functions that mutate their arguments (the first one, usually), as in <tt>setindex!</tt>.\n",
    "</div>\n",
    "\n",
    "Let's now wrap a 3x2 array of random `Float64` numbers with a string:"
   ]
  },
  {
   "cell_type": "code",
   "execution_count": 7,
   "id": "2a25aebe",
   "metadata": {},
   "outputs": [
    {
     "data": {
      "text/plain": [
       "3×2 MetaArray{Float64, 2, Matrix{Float64}, String}:\n",
       " 0.355985   0.915637\n",
       " 0.515932   0.894413\n",
       " 0.0597544  0.166661"
      ]
     },
     "execution_count": 7,
     "metadata": {},
     "output_type": "execute_result"
    }
   ],
   "source": [
    "ma = MetaArray(rand(3, 2), \"My first MetaArray\")"
   ]
  },
  {
   "cell_type": "markdown",
   "id": "46f34b71",
   "metadata": {},
   "source": [
    "We can now use a lot of higher-level functionnalities:"
   ]
  },
  {
   "cell_type": "code",
   "execution_count": 8,
   "id": "c4b20a17",
   "metadata": {
    "scrolled": true
   },
   "outputs": [
    {
     "data": {
      "text/plain": [
       "(0.059754422388169415, 0.9156367441650319, 2.9083827254002874, 2.640261914821579)"
      ]
     },
     "execution_count": 8,
     "metadata": {},
     "output_type": "execute_result"
    }
   ],
   "source": [
    "minimum(ma), maximum(ma), sum(ma), sum(sin, ma)"
   ]
  },
  {
   "cell_type": "markdown",
   "id": "266995cb",
   "metadata": {},
   "source": [
    "Any given function could also be applied element-wise (using a `.` as in Matlab) to our `MetaArray`."
   ]
  },
  {
   "cell_type": "code",
   "execution_count": 9,
   "id": "8f16195b",
   "metadata": {},
   "outputs": [
    {
     "data": {
      "text/plain": [
       "3×2 Matrix{Float64}:\n",
       " 1.42759  2.49837\n",
       " 1.6752   2.4459\n",
       " 1.06158  1.18135"
      ]
     },
     "execution_count": 9,
     "metadata": {},
     "output_type": "execute_result"
    }
   ],
   "source": [
    "exp.(ma)"
   ]
  },
  {
   "cell_type": "markdown",
   "id": "66bb6582",
   "metadata": {},
   "source": [
    "As seen above, the metadata was lost in the process since the returned object is a `<:Matrix` (Julia's default 2D implementation). This can be fixed by customizing the **broadcasting** machinery."
   ]
  },
  {
   "cell_type": "markdown",
   "id": "d992eb2d",
   "metadata": {},
   "source": [
    "## Another example: `LazyArray`\n",
    "\n",
    "Let's assume you want to represent the lazy representation of a function applied to an array. This can also be easily done.\n"
   ]
  },
  {
   "cell_type": "code",
   "execution_count": 10,
   "id": "16663b65",
   "metadata": {},
   "outputs": [],
   "source": [
    "struct LazyArray{T,N,S,A<:AbstractArray{S,N},F} <: AbstractArray{T,N}\n",
    "    data::A\n",
    "    f::F\n",
    "end\n",
    "\n",
    "Base.parent(this::LazyArray) = this.data\n",
    "handle(this::LazyArray) = this.f\n",
    "\n",
    "Base.size(this::LazyArray) = size(parent(this))\n",
    "Base.getindex(this::LazyArray{T,N}, ind::Vararg{Int,N}) where {T,N} =\n",
    "    handle(this)(getindex(parent(this), ind...))"
   ]
  },
  {
   "cell_type": "markdown",
   "id": "c4ce2bf2",
   "metadata": {},
   "source": [
    "To infer the element type of a `LazyArray` (that is, the return type of `f` applied to an element of `data`), we also need to define a custom constructor."
   ]
  },
  {
   "cell_type": "code",
   "execution_count": 11,
   "id": "d4e8c48b",
   "metadata": {},
   "outputs": [
    {
     "data": {
      "text/plain": [
       "LazyArray"
      ]
     },
     "execution_count": 11,
     "metadata": {},
     "output_type": "execute_result"
    }
   ],
   "source": [
    "function LazyArray(data::A, f::F) where {S,N,A<:AbstractArray{S,N},F}\n",
    "    T = Base._return_type(f, Tuple{S})\n",
    "    LazyArray{T,N,S,A,F}(data, f)\n",
    "end"
   ]
  },
  {
   "cell_type": "markdown",
   "id": "ac8c94b8",
   "metadata": {},
   "source": [
    "For a lazy representation of the exponential:"
   ]
  },
  {
   "cell_type": "code",
   "execution_count": 12,
   "id": "fa54ed44",
   "metadata": {},
   "outputs": [
    {
     "data": {
      "text/plain": [
       "2×3 LazyArray{Float64, 2, Float64, Matrix{Float64}, typeof(exp)}:\n",
       " 1.87172  1.18937  1.77407\n",
       " 1.35522  1.9349   1.86324"
      ]
     },
     "execution_count": 12,
     "metadata": {},
     "output_type": "execute_result"
    }
   ],
   "source": [
    "LazyArray(rand(2, 3), exp)"
   ]
  },
  {
   "cell_type": "markdown",
   "id": "c1c719d4",
   "metadata": {},
   "source": [
    "But anything else works too:"
   ]
  },
  {
   "cell_type": "code",
   "execution_count": 13,
   "id": "ccbfab12",
   "metadata": {},
   "outputs": [
    {
     "data": {
      "text/plain": [
       "myfun (generic function with 1 method)"
      ]
     },
     "execution_count": 13,
     "metadata": {},
     "output_type": "execute_result"
    }
   ],
   "source": [
    "myfun(x) = (x, x ^ 2)"
   ]
  },
  {
   "cell_type": "code",
   "execution_count": 14,
   "id": "7d323a11",
   "metadata": {},
   "outputs": [
    {
     "data": {
      "text/plain": [
       "2×3 LazyArray{Tuple{Float64, Float64}, 2, Float64, Matrix{Float64}, typeof(myfun)}:\n",
       " (0.681642, 0.464636)   (0.17879, 0.0319659)  (0.014936, 0.000223083)\n",
       " (0.140294, 0.0196823)  (0.455372, 0.207364)  (0.580472, 0.336948)"
      ]
     },
     "execution_count": 14,
     "metadata": {},
     "output_type": "execute_result"
    }
   ],
   "source": [
    "LazyArray(rand(2, 3), myfun)"
   ]
  },
  {
   "cell_type": "markdown",
   "id": "da976f86",
   "metadata": {},
   "source": [
    "To illustrate the point of traits, let's say you know beforehand you want to compute the extrema after appling expensive function (such as `exp`) to an array. "
   ]
  },
  {
   "cell_type": "code",
   "execution_count": 15,
   "id": "00b50015",
   "metadata": {},
   "outputs": [
    {
     "data": {
      "text/plain": [
       "MonotonicityStyle"
      ]
     },
     "execution_count": 15,
     "metadata": {},
     "output_type": "execute_result"
    }
   ],
   "source": [
    "abstract type MonotonicityStyle end\n",
    "\n",
    "struct Increasing <: MonotonicityStyle end\n",
    "struct Decreasing <: MonotonicityStyle end\n",
    "struct Unknown <: MonotonicityStyle end\n",
    "\n",
    "# default\n",
    "MonotonicityStyle(f) = Unknown()"
   ]
  },
  {
   "cell_type": "markdown",
   "id": "4c5715cc",
   "metadata": {},
   "source": [
    "Since we know `exp` to be monotonically increasing, we just have to say it."
   ]
  },
  {
   "cell_type": "code",
   "execution_count": 16,
   "id": "175f471f",
   "metadata": {},
   "outputs": [
    {
     "data": {
      "text/plain": [
       "MonotonicityStyle"
      ]
     },
     "execution_count": 16,
     "metadata": {},
     "output_type": "execute_result"
    }
   ],
   "source": [
    "MonotonicityStyle(::typeof(exp)) = Increasing()"
   ]
  },
  {
   "cell_type": "code",
   "execution_count": 17,
   "id": "8acf372c",
   "metadata": {},
   "outputs": [
    {
     "data": {
      "text/plain": [
       "_maximum (generic function with 1 method)"
      ]
     },
     "execution_count": 17,
     "metadata": {},
     "output_type": "execute_result"
    }
   ],
   "source": [
    "Base.maximum(this::LazyArray) =\n",
    "    _maximum(MonotonicityStyle(handle(this)), handle(this), parent(this))\n",
    "\n",
    "_maximum(::Increasing, f::Function, data::AbstractArray) =\n",
    "    f(maximum(data))"
   ]
  },
  {
   "cell_type": "markdown",
   "id": "918bc243",
   "metadata": {},
   "source": [
    "To compare the cost between the two, we run into the issue that because Julia uses Just-in-Time (or Ahead-of-Time) compilation (based on the [LLVM](https://llvm.org/) compiler infrastructure), the time take by a function call **first time it is run** also includes the compilation time.\n",
    "\n",
    "As a result, the function is run a first time before timing it in the cell below."
   ]
  },
  {
   "cell_type": "code",
   "execution_count": 18,
   "id": "602d7b35",
   "metadata": {},
   "outputs": [
    {
     "name": "stdout",
     "output_type": "stream",
     "text": [
      "  0.000730 seconds (1 allocation: 16 bytes)\n",
      "  0.010214 seconds (5 allocations: 7.629 MiB)\n"
     ]
    },
    {
     "data": {
      "text/plain": [
       "2.7182794155301915"
      ]
     },
     "execution_count": 18,
     "metadata": {},
     "output_type": "execute_result"
    }
   ],
   "source": [
    "a = rand(1000, 1000)\n",
    "la = LazyArray(a, exp)\n",
    "\n",
    "maximum(la); @time maximum(la)\n",
    "maximum(exp.(a)); @time maximum(exp.(a))"
   ]
  },
  {
   "cell_type": "markdown",
   "id": "ade339c4",
   "metadata": {},
   "source": [
    "## Iterators\n",
    "\n",
    "Julia also has a very simple iterator interface. Let's for example implement the `Fibonacci` sequence as an iterator."
   ]
  },
  {
   "cell_type": "code",
   "execution_count": 19,
   "id": "25950715",
   "metadata": {},
   "outputs": [],
   "source": [
    "struct Fibonacci\n",
    "    len::Int\n",
    "end\n",
    "\n",
    "Base.length(this::Fibonacci) = this.len\n",
    "\n",
    "function Base.iterate(this::Fibonacci, state=(0, 0, 1))\n",
    "    i, prev, next = state\n",
    "    i ≥ length(this) && return nothing\n",
    "    next, (i+1, next, prev+next)\n",
    "end"
   ]
  },
  {
   "cell_type": "markdown",
   "id": "e3ca8c9e",
   "metadata": {},
   "source": [
    "The `iterate` method above includes a short-circuit \"and\" operator (the expression to its right is not evaluated unless the first is `true`). Depending on the value of `i ≥ length(this)`, the return value can be either `Nothing`, or `Tuple{Int,NTuple{3,Int}}`. As seen below by inspecting the code using the `@code_warntype`, the returned type is therefore a `Union{Nothing, Tuple{Int64, Tuple{Int64, Int64, Int64}}}`, which is called a `Union` type."
   ]
  },
  {
   "cell_type": "code",
   "execution_count": 20,
   "id": "c8887a0f",
   "metadata": {},
   "outputs": [
    {
     "name": "stdout",
     "output_type": "stream",
     "text": [
      "MethodInstance for iterate(::Fibonacci, ::Tuple{Int64, Int64, Int64})\n",
      "  from iterate(this::Fibonacci, state) in Main at In[19]:7\n",
      "Arguments\n",
      "  #self#\u001b[36m::Core.Const(iterate)\u001b[39m\n",
      "  this\u001b[36m::Fibonacci\u001b[39m\n",
      "  state\u001b[36m::Tuple{Int64, Int64, Int64}\u001b[39m\n",
      "Locals\n",
      "  @_4\u001b[36m::Int64\u001b[39m\n",
      "  next\u001b[36m::Int64\u001b[39m\n",
      "  prev\u001b[36m::Int64\u001b[39m\n",
      "  i\u001b[36m::Int64\u001b[39m\n",
      "Body\u001b[33m\u001b[1m::Union{Nothing, Tuple{Int64, Tuple{Int64, Int64, Int64}}}\u001b[22m\u001b[39m\n",
      "\u001b[90m1 ─\u001b[39m %1  = Base.indexed_iterate(state, 1)\u001b[36m::Core.PartialStruct(Tuple{Int64, Int64}, Any[Int64, Core.Const(2)])\u001b[39m\n",
      "\u001b[90m│  \u001b[39m       (i = Core.getfield(%1, 1))\n",
      "\u001b[90m│  \u001b[39m       (@_4 = Core.getfield(%1, 2))\n",
      "\u001b[90m│  \u001b[39m %4  = Base.indexed_iterate(state, 2, @_4::Core.Const(2))\u001b[36m::Core.PartialStruct(Tuple{Int64, Int64}, Any[Int64, Core.Const(3)])\u001b[39m\n",
      "\u001b[90m│  \u001b[39m       (prev = Core.getfield(%4, 1))\n",
      "\u001b[90m│  \u001b[39m       (@_4 = Core.getfield(%4, 2))\n",
      "\u001b[90m│  \u001b[39m %7  = Base.indexed_iterate(state, 3, @_4::Core.Const(3))\u001b[36m::Core.PartialStruct(Tuple{Int64, Int64}, Any[Int64, Core.Const(4)])\u001b[39m\n",
      "\u001b[90m│  \u001b[39m       (next = Core.getfield(%7, 1))\n",
      "\u001b[90m│  \u001b[39m %9  = i\u001b[36m::Int64\u001b[39m\n",
      "\u001b[90m│  \u001b[39m %10 = Main.length(this)\u001b[36m::Int64\u001b[39m\n",
      "\u001b[90m│  \u001b[39m %11 = (%9 ≥ %10)\u001b[36m::Bool\u001b[39m\n",
      "\u001b[90m└──\u001b[39m       goto #3 if not %11\n",
      "\u001b[90m2 ─\u001b[39m       return Main.nothing\n",
      "\u001b[90m3 ─\u001b[39m %14 = next\u001b[36m::Int64\u001b[39m\n",
      "\u001b[90m│  \u001b[39m %15 = (i + 1)\u001b[36m::Int64\u001b[39m\n",
      "\u001b[90m│  \u001b[39m %16 = next\u001b[36m::Int64\u001b[39m\n",
      "\u001b[90m│  \u001b[39m %17 = (prev + next)\u001b[36m::Int64\u001b[39m\n",
      "\u001b[90m│  \u001b[39m %18 = Core.tuple(%15, %16, %17)\u001b[36m::Tuple{Int64, Int64, Int64}\u001b[39m\n",
      "\u001b[90m│  \u001b[39m %19 = Core.tuple(%14, %18)\u001b[36m::Tuple{Int64, Tuple{Int64, Int64, Int64}}\u001b[39m\n",
      "\u001b[90m└──\u001b[39m       return %19\n",
      "\n"
     ]
    }
   ],
   "source": [
    "@code_warntype iterate(Fibonacci(1), (2, 0, 0))"
   ]
  },
  {
   "cell_type": "code",
   "execution_count": 21,
   "id": "77c5c3a0",
   "metadata": {},
   "outputs": [
    {
     "name": "stdout",
     "output_type": "stream",
     "text": [
      "el = 1\n",
      "el = 1\n",
      "el = 2\n",
      "el = 3\n",
      "el = 5\n",
      "el = 8\n",
      "el = 13\n",
      "el = 21\n",
      "el = 34\n",
      "el = 55\n"
     ]
    }
   ],
   "source": [
    "for el in Fibonacci(10)\n",
    "    @show el\n",
    "end"
   ]
  },
  {
   "cell_type": "markdown",
   "id": "56cebc36",
   "metadata": {},
   "source": [
    "To look at the assembly code generated, we can include a loop in a function and sum the first `len` elements of the Fibonacci sequence."
   ]
  },
  {
   "cell_type": "code",
   "execution_count": 22,
   "id": "cb746ae0",
   "metadata": {},
   "outputs": [
    {
     "data": {
      "text/plain": [
       "fibosum (generic function with 1 method)"
      ]
     },
     "execution_count": 22,
     "metadata": {},
     "output_type": "execute_result"
    }
   ],
   "source": [
    "function fibosum(len)\n",
    "    iter = Fibonacci(len)\n",
    "    n = 0\n",
    "    for el in iter\n",
    "        n += el\n",
    "    end\n",
    "    n\n",
    "end"
   ]
  },
  {
   "cell_type": "code",
   "execution_count": 23,
   "id": "6164a943",
   "metadata": {},
   "outputs": [
    {
     "name": "stdout",
     "output_type": "stream",
     "text": [
      "\t\u001b[0m.section\t\u001b[0m__TEXT\u001b[0m,\u001b[0m__text\u001b[0m,\u001b[0mregular\u001b[0m,\u001b[0mpure_instructions\n",
      "\t\u001b[0m.build_version \u001b[0mmacos\u001b[0m, \u001b[33m12\u001b[39m\u001b[0m, \u001b[33m0\u001b[39m\n",
      "\t\u001b[0m.globl\t\u001b[0m_julia_fibosum_3003             \u001b[0m## \u001b[0m-- \u001b[0mBegin \u001b[0mfunction \u001b[0mjulia_fibosum_3003\n",
      "\t\u001b[0m.p2align\t\u001b[33m4\u001b[39m\u001b[0m, \u001b[33m0x90\u001b[39m\n",
      "\u001b[91m_julia_fibosum_3003:\u001b[39m                    \u001b[0m## \u001b[0m@julia_fibosum_3003\n",
      "\u001b[90m; ┌ @ In[22]:1 within `fibosum`\u001b[39m\n",
      "\t\u001b[0m.cfi_startproc\n",
      "\u001b[0m## \u001b[0m%bb.0\u001b[0m:                               \u001b[0m## \u001b[0m%top\n",
      "\u001b[90m; │ @ In[22]:4 within `fibosum`\u001b[39m\n",
      "\u001b[90m; │┌ @ In[19]:8 within `iterate` @ In[19]:9\u001b[39m\n",
      "\u001b[90m; ││┌ @ operators.jl:429 within `>=`\u001b[39m\n",
      "\u001b[90m; │││┌ @ int.jl:481 within `<=`\u001b[39m\n",
      "\t\u001b[96m\u001b[1mtestq\u001b[22m\u001b[39m\t\u001b[0m%rdi\u001b[0m, \u001b[0m%rdi\n",
      "\u001b[90m; │└└└\u001b[39m\n",
      "\t\u001b[96m\u001b[1mjle\u001b[22m\u001b[39m\t\u001b[91mLBB0_1\u001b[39m\n",
      "\u001b[0m## \u001b[0m%bb.2\u001b[0m:                               \u001b[0m## \u001b[0m%L14.preheader\n",
      "\t\u001b[96m\u001b[1mmovl\u001b[22m\u001b[39m\t\u001b[33m$1\u001b[39m\u001b[0m, \u001b[0m%ecx\n",
      "\t\u001b[96m\u001b[1mxorl\u001b[22m\u001b[39m\t\u001b[0m%eax\u001b[0m, \u001b[0m%eax\n",
      "\t\u001b[96m\u001b[1mmovl\u001b[22m\u001b[39m\t\u001b[33m$1\u001b[39m\u001b[0m, \u001b[0m%edx\n",
      "\t\u001b[0m.p2align\t\u001b[33m4\u001b[39m\u001b[0m, \u001b[33m0x90\u001b[39m\n",
      "\u001b[91mLBB0_3:\u001b[39m                                 \u001b[0m## \u001b[0m%L14\n",
      "                                        \u001b[0m## \u001b[0m=>This \u001b[0mInner \u001b[91mLoop\u001b[39m \u001b[0mHeader\u001b[0m: \u001b[0mDepth=1\n",
      "\u001b[90m; │ @ In[22]:5 within `fibosum`\u001b[39m\n",
      "\u001b[90m; │┌ @ int.jl:87 within `+`\u001b[39m\n",
      "\t\u001b[96m\u001b[1maddq\u001b[22m\u001b[39m\t\u001b[0m%rcx\u001b[0m, \u001b[0m%rax\n",
      "\u001b[90m; │└\u001b[39m\n",
      "\u001b[90m; │ @ In[22]:6 within `fibosum`\u001b[39m\n",
      "\u001b[90m; │┌ @ In[19]:9 within `iterate`\u001b[39m\n",
      "\t\u001b[96m\u001b[1mmovq\u001b[22m\u001b[39m\t\u001b[0m%rcx\u001b[0m, \u001b[0m%rsi\n",
      "\t\u001b[96m\u001b[1maddq\u001b[22m\u001b[39m\t\u001b[0m%rdx\u001b[0m, \u001b[0m%rsi\n",
      "\t\u001b[96m\u001b[1mmovq\u001b[22m\u001b[39m\t\u001b[0m%rdx\u001b[0m, \u001b[0m%rcx\n",
      "\t\u001b[96m\u001b[1mmovq\u001b[22m\u001b[39m\t\u001b[0m%rsi\u001b[0m, \u001b[0m%rdx\n",
      "\u001b[90m; ││┌ @ operators.jl:429 within `>=`\u001b[39m\n",
      "\u001b[90m; │││┌ @ int.jl:481 within `<=`\u001b[39m\n",
      "\t\u001b[96m\u001b[1mdecq\u001b[22m\u001b[39m\t\u001b[0m%rdi\n",
      "\u001b[90m; │└└└\u001b[39m\n",
      "\t\u001b[96m\u001b[1mjne\u001b[22m\u001b[39m\t\u001b[91mLBB0_3\u001b[39m\n",
      "\u001b[0m## \u001b[0m%bb.4\u001b[0m:                               \u001b[0m## \u001b[0m%L37\n",
      "\u001b[90m; │ @ In[22]:7 within `fibosum`\u001b[39m\n",
      "\t\u001b[96m\u001b[1mretq\u001b[22m\u001b[39m\n",
      "\u001b[91mLBB0_1:\u001b[39m\n",
      "\t\u001b[96m\u001b[1mxorl\u001b[22m\u001b[39m\t\u001b[0m%eax\u001b[0m, \u001b[0m%eax\n",
      "\t\u001b[96m\u001b[1mretq\u001b[22m\u001b[39m\n",
      "\t\u001b[0m.cfi_endproc\n",
      "\u001b[90m; └\u001b[39m\n",
      "                                        \u001b[0m## \u001b[0m-- \u001b[0mEnd \u001b[0mfunction\n",
      "\u001b[0m.subsections_via_symbols\n"
     ]
    }
   ],
   "source": [
    "@code_native fibosum(10)"
   ]
  },
  {
   "cell_type": "markdown",
   "id": "972508cc",
   "metadata": {},
   "source": [
    "# Available implementations\n",
    "\n",
    "There exists a wide range of custom arrays in Julia:\n",
    "\n",
    "1. From the [Julia standard library](https://docs.julialang.org/en/v1/stdlib),\n",
    "\n",
    "    - [SharedArrays](https://docs.julialang.org/en/v1/stdlib/SharedArrays/),\n",
    "    - [SparseArrays](https://docs.julialang.org/en/v1/stdlib/SparseArrays/),\n",
    "\n",
    "1. From the [JuliaArrays](https://github.com/JuliaArrays) organisation,\n",
    "\n",
    "    - [StaticArrays.jl](https://github.com/JuliaArrays/StaticArrays.jl),\n",
    "    - [OffsetArrays.jl](https://github.com/JuliaArrays/OffsetArrays.jl),\n",
    "    \n",
    "1. From the [JuliaGPU](https://github.com/JuliaGPU) organisation, [GPUArrays.jl](https://github.com/JuliaGPU/GPUArrays.jl) and used by\n",
    "\n",
    "    - [CUDA.jl](https://github.com/JuliaGPU/CUDA.jl),\n",
    "    - [oneAPI.jl](https://github.com/JuliaGPU/oneAPI.jl),\n",
    "    - [AMDGPU.jl](https://github.com/JuliaGPU/AMDGPU.jl),\n",
    "    - [Metal.jl](https://github.com/JuliaGPU/Metal.jl)."
   ]
  },
  {
   "cell_type": "code",
   "execution_count": null,
   "id": "ba61af20",
   "metadata": {},
   "outputs": [],
   "source": []
  }
 ],
 "metadata": {
  "kernelspec": {
   "display_name": "Julia 1.8.5",
   "language": "julia",
   "name": "julia-1.8"
  },
  "language_info": {
   "file_extension": ".jl",
   "mimetype": "application/julia",
   "name": "julia",
   "version": "1.8.5"
  }
 },
 "nbformat": 4,
 "nbformat_minor": 5
}
