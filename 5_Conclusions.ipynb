{
 "cells": [
  {
   "cell_type": "markdown",
   "id": "0a1339f6",
   "metadata": {},
   "source": [
    "# Recommandations\n",
    "\n",
    "\n",
    "\n",
    "# Reality check\n",
    "\n",
    "Deux domaines :\n",
    "\n",
    "1. Communauté petite (création de *wrappers* de libraries C/Fortran spécialisées existantes est une tâche pénible) ;\n",
    "2. Binaire !!!"
   ]
  }
 ],
 "metadata": {
  "kernelspec": {
   "display_name": "Julia 1.8.5",
   "language": "julia",
   "name": "julia-1.8"
  },
  "language_info": {
   "file_extension": ".jl",
   "mimetype": "application/julia",
   "name": "julia",
   "version": "1.8.5"
  }
 },
 "nbformat": 4,
 "nbformat_minor": 5
}
