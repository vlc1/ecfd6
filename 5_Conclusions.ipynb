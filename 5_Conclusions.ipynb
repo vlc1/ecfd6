{
 "cells": [
  {
   "cell_type": "markdown",
   "id": "0a1339f6",
   "metadata": {},
   "source": [
    "# Recommandations\n",
    "\n",
    "Use built-in analysis tools and other packages.\n",
    "\n",
    "# Reality check\n",
    "\n",
    "\n",
    "Deux domaines :\n",
    "\n",
    "1. No possibility to protect some implementation details (`private`).\n",
    "1. Communauté petite (création de *wrappers* de libraries C/Fortran spécialisées existantes est une tâche pénible) ; Pas mal d'aide mais quand même... (BinaryBuilder...)\n",
    "1. Lenteur + déploiement HPC (LLVM) + Binaire!!!\n",
    "\n",
    "# Ressources supplémentaires\n",
    "\n",
    "Ludovic Raess\n",
    "Steven Johnson's lecture notes"
   ]
  },
  {
   "cell_type": "code",
   "execution_count": null,
   "id": "f705f54e",
   "metadata": {},
   "outputs": [],
   "source": []
  }
 ],
 "metadata": {
  "kernelspec": {
   "display_name": "Julia 1.8.5",
   "language": "julia",
   "name": "julia-1.8"
  },
  "language_info": {
   "file_extension": ".jl",
   "mimetype": "application/julia",
   "name": "julia",
   "version": "1.8.5"
  }
 },
 "nbformat": 4,
 "nbformat_minor": 5
}
