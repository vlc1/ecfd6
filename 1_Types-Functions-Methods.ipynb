{
 "cells": [
  {
   "cell_type": "markdown",
   "id": "aff646da",
   "metadata": {},
   "source": [
    "# Fonction et méthodes\n",
    "\n",
    "Pour créer une fonction en Julia, il suffit de la déclarer comme suit"
   ]
  },
  {
   "cell_type": "code",
   "execution_count": 1,
   "id": "8505d780",
   "metadata": {},
   "outputs": [
    {
     "data": {
      "text/plain": [
       "hello (generic function with 0 methods)"
      ]
     },
     "execution_count": 1,
     "metadata": {},
     "output_type": "execute_result"
    }
   ],
   "source": [
    "function hello end"
   ]
  },
  {
   "cell_type": "markdown",
   "id": "ac4b9385",
   "metadata": {},
   "source": [
    "Or comme le résultat de la cellule précédente le montre, cette fonction n'a pas encore de **méthode**. Avant d'en rajouter, il convient de passer en revue les différents types d'arguments qu'une fonction peut accepter :\n",
    "\n",
    "1. Les arguments *positionnels*, c'est à dire identifiés par leur position ;\n",
    "1. Les arguments *optionnels*, positionnés après les arguments positionnels et qui prennent une valeur par défaut ;\n",
    "1. Les arguments *mots-clés*, positionnés après un `;` (point-virgule) et identifiés par un symbole.\n",
    "\n",
    "Pour ajouter des méthodes, il suffit de réemployer la même syntaxe que précédemment:"
   ]
  },
  {
   "cell_type": "code",
   "execution_count": 2,
   "id": "5dd9256b",
   "metadata": {},
   "outputs": [
    {
     "data": {
      "text/plain": [
       "hello (generic function with 1 method)"
      ]
     },
     "execution_count": 2,
     "metadata": {},
     "output_type": "execute_result"
    }
   ],
   "source": [
    "# 0-argument\n",
    "function hello()\n",
    "    println(\"Hello, World!\")\n",
    "end"
   ]
  },
  {
   "cell_type": "markdown",
   "id": "f6aaca65",
   "metadata": {},
   "source": [
    "Cette fonction peut-être invokée de la manière suivante :"
   ]
  },
  {
   "cell_type": "code",
   "execution_count": 3,
   "id": "58ab73f0",
   "metadata": {},
   "outputs": [
    {
     "name": "stdout",
     "output_type": "stream",
     "text": [
      "Hello, World!\n"
     ]
    }
   ],
   "source": [
    "hello()"
   ]
  },
  {
   "cell_type": "markdown",
   "id": "4ae00dc5",
   "metadata": {},
   "source": [
    "De premier abord, on a l'impression que la fonction de retourne aucun objet. Par convention, Julia retourne le résultat de la dernière ligne de la fonction, à savoir le résultat de la commande `println(\"Hello, World!\")` ici, soit"
   ]
  },
  {
   "cell_type": "code",
   "execution_count": 4,
   "id": "faba6d75",
   "metadata": {},
   "outputs": [
    {
     "name": "stdout",
     "output_type": "stream",
     "text": [
      "Hello, World!\n"
     ]
    },
    {
     "data": {
      "text/plain": [
       "Nothing"
      ]
     },
     "execution_count": 4,
     "metadata": {},
     "output_type": "execute_result"
    }
   ],
   "source": [
    "typeof(println(\"Hello, World!\"))"
   ]
  },
  {
   "cell_type": "markdown",
   "id": "658b36e3",
   "metadata": {},
   "source": [
    "Autrement dit, la méthode ajouté à la fonction `hello` et qui correspond à 0 arguments est équivalente à\n",
    "```julia\n",
    "function hello()\n",
    "    return println(\"Hello, World!\")\n",
    "end\n",
    "```\n",
    "\n",
    "<div class=\"alert alert-block alert-info\">\n",
    "<b>Avertissement</b> : Ce comportement peut-être source de bug pour ceux venant du monde C/Fortran dans lequel le code qui suit un `return` est simplement ignoré par le compilateur. D'autres symboles réserver pour le contrôle sont <tt>continue</tt> et <tt>break</tt>.\n",
    "</div>\n",
    "\n",
    "Cela signifie donc que `println` renvoie un object de type `Nothing`. En fait, `Nothing` est un type *singleton*, c'est à dire un type qui n'a qu'une seul instance, ici définie dans le module `Base` de Julia par une ligne qui ressemble à\n",
    "```julia\n",
    "const nothing = Nothing()\n",
    "```\n",
    "\n",
    "La fonction `hello` elle aussi a un type :"
   ]
  },
  {
   "cell_type": "code",
   "execution_count": 5,
   "id": "df915a64",
   "metadata": {},
   "outputs": [
    {
     "data": {
      "text/plain": [
       "typeof(hello) (singleton type of function hello, subtype of Function)"
      ]
     },
     "execution_count": 5,
     "metadata": {},
     "output_type": "execute_result"
    }
   ],
   "source": [
    "typeof(hello)"
   ]
  },
  {
   "cell_type": "markdown",
   "id": "cc5ad0cb",
   "metadata": {},
   "source": [
    "On lit ici que la fonction `hello` est de type `typeof(hello)`, un type *singleton* qui hérite du type `Function`.\n",
    "\n",
    "Le type `Function` est un type abstrait, c'est à dire qu'il ne peut pas être instancier. De plus, en Julia, un type (abstrait ou concret) ne peut hériter que d'un seul type abstrait (ou aucun).\n",
    "\n",
    "<div class=\"alert alert-block alert-info\">\n",
    "    <b>Info</b> : Cette limitation, qui simplifie énormément le mécanisme de <i>dispatch</i>, n'est en fait pas si contraignante. En effet, on peut introduire un niveau d'indirection intermédiaire grâce à un système de <i>traits</i> (<i>Holy traits</i>) implémenté grâce à un autre type <i>singleton</i>, <tt>Type{T}</tt>, dont la seule instance est le type <tt>T</tt>.\n",
    "</div>"
   ]
  },
  {
   "cell_type": "markdown",
   "id": "4827f72a",
   "metadata": {},
   "source": [
    "On rajoute des méthodes à la fonction `hello` comme suit (noter la syntaxe sur une ligne, strictement équivalentes aux syntaxes précédentes avec et sans `return`, mais sans les délimiteurs `function` et `end`) :"
   ]
  },
  {
   "cell_type": "code",
   "execution_count": 6,
   "id": "5b062b69",
   "metadata": {},
   "outputs": [
    {
     "data": {
      "text/plain": [
       "hello (generic function with 3 methods)"
      ]
     },
     "execution_count": 6,
     "metadata": {},
     "output_type": "execute_result"
    }
   ],
   "source": [
    "hello(x) = println(\"Hello, $(x)!\")\n",
    "hello(x, y) = println(\"Hello, $(x) and $(y)!\")"
   ]
  },
  {
   "cell_type": "markdown",
   "id": "571e01e2",
   "metadata": {},
   "source": [
    "À noter l'opérateur d'interpolation (`$`) qui convertit l'objet référencer en chaine de caractère (`String`) et le remplace dans la chaine. On peut enfin généraliser ce comportement grâce à une fonction variadique (noter la concaténation de chaines de caractères réalisée par la fonction `*`) :"
   ]
  },
  {
   "cell_type": "code",
   "execution_count": 7,
   "id": "f9c6fcaa",
   "metadata": {},
   "outputs": [
    {
     "data": {
      "text/plain": [
       "hello (generic function with 4 methods)"
      ]
     },
     "execution_count": 7,
     "metadata": {},
     "output_type": "execute_result"
    }
   ],
   "source": [
    "hello(x...) = println(\"Hello, \" * \"$(join(Base.front(x), \", \")) and $(Base.last(x))!\")"
   ]
  },
  {
   "cell_type": "code",
   "execution_count": 8,
   "id": "86acba1f",
   "metadata": {},
   "outputs": [
    {
     "name": "stdout",
     "output_type": "stream",
     "text": [
      "Hello, Pierre, Paul and Jacques!\n"
     ]
    }
   ],
   "source": [
    "hello(\"Pierre\", \"Paul\", \"Jacques\")"
   ]
  },
  {
   "cell_type": "markdown",
   "id": "c5cfc6c4",
   "metadata": {},
   "source": [
    "<div class=\"alert alert-block alert-info\">\n",
    "    <b>Complément</b> : Seuls des arguments positionnels ont été utilisés jusqu'ici, les cas des arguments optionnels ou à mots-clés sont laissés à tout un chacun.\n",
    "</div>"
   ]
  },
  {
   "cell_type": "markdown",
   "id": "bd0fce91",
   "metadata": {},
   "source": [
    "# Dispatch et types\n",
    "\n",
    "Jusqu'ici, aucune annotation de type n'a été employée. **Cela ne signifie pas que les objets n'ont pas de types**. Par exemple :"
   ]
  },
  {
   "cell_type": "code",
   "execution_count": 9,
   "id": "6e482dcc",
   "metadata": {},
   "outputs": [
    {
     "data": {
      "text/plain": [
       "Float64"
      ]
     },
     "execution_count": 9,
     "metadata": {},
     "output_type": "execute_result"
    }
   ],
   "source": [
    "x = 1.\n",
    "typeof(x)"
   ]
  },
  {
   "cell_type": "markdown",
   "id": "0824a6fb",
   "metadata": {},
   "source": [
    "Si on souhaite utiliser un type particulier, on peut invoquer son constructeur explicitement, par exemple pour associer au symbole `x` un nombre flottant en demi-précision (2 octets)"
   ]
  },
  {
   "cell_type": "code",
   "execution_count": 10,
   "id": "8c88eb2f",
   "metadata": {},
   "outputs": [
    {
     "data": {
      "text/plain": [
       "(Irrational{:π}, Float16(3.14))"
      ]
     },
     "execution_count": 10,
     "metadata": {},
     "output_type": "execute_result"
    }
   ],
   "source": [
    "typeof(π), Float16(π)"
   ]
  },
  {
   "cell_type": "markdown",
   "id": "340ae293",
   "metadata": {},
   "source": [
    "Ici, le nombre irrationnel π a été converti en `Float16` grâce à un mécanisme de [promotion et conversion](https://docs.julialang.org/en/v1/manual/conversion-and-promotion/). Cependant, il est préférable de typer le moins strictement possible.\n",
    "\n",
    "En effet, si une méthode est initialement prévue pour des `Float16`, il y a de grandes chances que son implémentation soit identique pour des `Float32`, `Float64` voire même `Int32`...\n",
    "\n",
    "Or ce sont tous des sous-types de `Number`, on aurait alors pu définir une fonction comme le cube comme suit :"
   ]
  },
  {
   "cell_type": "code",
   "execution_count": 15,
   "id": "43ca85d3",
   "metadata": {},
   "outputs": [
    {
     "data": {
      "text/plain": [
       "cube (generic function with 1 method)"
      ]
     },
     "execution_count": 15,
     "metadata": {},
     "output_type": "execute_result"
    }
   ],
   "source": [
    "cube(x::Number) = x ^ 3"
   ]
  },
  {
   "cell_type": "markdown",
   "id": "9777cff2",
   "metadata": {},
   "source": [
    "Cette fonction marche même pour des nombres rationnels et des nombres complexes..."
   ]
  },
  {
   "cell_type": "code",
   "execution_count": 25,
   "id": "c8b3bf3e",
   "metadata": {},
   "outputs": [
    {
     "data": {
      "text/plain": [
       "(8//27, 0 - 1im)"
      ]
     },
     "execution_count": 25,
     "metadata": {},
     "output_type": "execute_result"
    }
   ],
   "source": [
    "cube(2//3), cube(im)"
   ]
  },
  {
   "cell_type": "markdown",
   "id": "af1164d8",
   "metadata": {},
   "source": [
    "mais plus pour des chaines de caractères"
   ]
  },
  {
   "cell_type": "code",
   "execution_count": 18,
   "id": "f6adabdf",
   "metadata": {},
   "outputs": [
    {
     "ename": "LoadError",
     "evalue": "MethodError: no method matching square(::String)\n\u001b[0mClosest candidates are:\n\u001b[0m  square(\u001b[91m::Number\u001b[39m) at In[11]:1",
     "output_type": "error",
     "traceback": [
      "MethodError: no method matching square(::String)\n\u001b[0mClosest candidates are:\n\u001b[0m  square(\u001b[91m::Number\u001b[39m) at In[11]:1",
      "",
      "Stacktrace:",
      " [1] top-level scope",
      "   @ In[18]:1"
     ]
    }
   ],
   "source": [
    "square(\"Ho ! \")"
   ]
  },
  {
   "cell_type": "markdown",
   "id": "332cd850",
   "metadata": {},
   "source": [
    "alors même que l'opération `^` est définie pour les chaines de caractères... Dommage !"
   ]
  },
  {
   "cell_type": "code",
   "execution_count": 20,
   "id": "ac95eb86",
   "metadata": {},
   "outputs": [
    {
     "data": {
      "text/plain": [
       "\"Ho ! Ho ! Ho ! \""
      ]
     },
     "execution_count": 20,
     "metadata": {},
     "output_type": "execute_result"
    }
   ],
   "source": [
    "\"Ho ! \" ^ 3"
   ]
  },
  {
   "cell_type": "markdown",
   "id": "1bf8f64b",
   "metadata": {},
   "source": [
    "Que se passe t'il lorsque plusieurs méthodes sont applicables ? Par exemple si l'intentation de développeur lorsqu'il applique la fonction `double`"
   ]
  },
  {
   "cell_type": "code",
   "execution_count": 26,
   "id": "625ecb7e",
   "metadata": {},
   "outputs": [
    {
     "data": {
      "text/plain": [
       "double (generic function with 1 method)"
      ]
     },
     "execution_count": 26,
     "metadata": {},
     "output_type": "execute_result"
    }
   ],
   "source": [
    "double(x) = 2x"
   ]
  },
  {
   "cell_type": "markdown",
   "id": "c0ae59d5",
   "metadata": {},
   "source": [
    "à une chaine de caractères est de la répéter deux fois. Alors il suffit de définir la méthode associée à ce cas particulier :"
   ]
  },
  {
   "cell_type": "code",
   "execution_count": 27,
   "id": "c8355313",
   "metadata": {},
   "outputs": [
    {
     "data": {
      "text/plain": [
       "double (generic function with 2 methods)"
      ]
     },
     "execution_count": 27,
     "metadata": {},
     "output_type": "execute_result"
    }
   ],
   "source": [
    "double(x::String) = x * x"
   ]
  },
  {
   "cell_type": "code",
   "execution_count": 28,
   "id": "54a8cf58",
   "metadata": {},
   "outputs": [
    {
     "data": {
      "text/plain": [
       "(2.19736822693562 + 0.9101797211244547im, \"coucou\")"
      ]
     },
     "execution_count": 28,
     "metadata": {},
     "output_type": "execute_result"
    }
   ],
   "source": [
    "double(√(1+im)), double(\"cou\")"
   ]
  },
  {
   "cell_type": "markdown",
   "id": "237bdb1c",
   "metadata": {},
   "source": [
    "La méthode à exécuter est déterminée grâce à un ensemble de règles formelles présentées dans l'article :\n",
    "\n",
    "<div class=\"csl-entry\">Nardelli, F. Z., Belyakova, J., Pelenitsyn, A., Chung, B., Bezanson, J., &#38; Vitek, J. (2018). Julia subtyping: a rational reconstruction. <i>Proceedings of the ACM on Programming Languages</i>, <i>2</i>(OOPSLA), 27. https://doi.org/10.1145/3276483</div>\n",
    "\n",
    "Certains cas sont indéterminés, par exemple :"
   ]
  },
  {
   "cell_type": "code",
   "execution_count": 29,
   "id": "a705e2f0",
   "metadata": {},
   "outputs": [
    {
     "data": {
      "text/plain": [
       "foo (generic function with 2 methods)"
      ]
     },
     "execution_count": 29,
     "metadata": {},
     "output_type": "execute_result"
    }
   ],
   "source": [
    "foo(x::Int, y) = 2x + y\n",
    "foo(x, y::Int) = x + 2y"
   ]
  },
  {
   "cell_type": "markdown",
   "id": "882c29ac",
   "metadata": {},
   "source": [
    "Que se passe t'il si les deux arguments sont de type `Int` ?"
   ]
  },
  {
   "cell_type": "code",
   "execution_count": 30,
   "id": "9cee812b",
   "metadata": {},
   "outputs": [
    {
     "ename": "LoadError",
     "evalue": "MethodError: foo(::Int64, ::Int64) is ambiguous. Candidates:\n  foo(x::Int64, y) in Main at In[29]:1\n  foo(x, y::Int64) in Main at In[29]:2\nPossible fix, define\n  foo(::Int64, ::Int64)",
     "output_type": "error",
     "traceback": [
      "MethodError: foo(::Int64, ::Int64) is ambiguous. Candidates:\n  foo(x::Int64, y) in Main at In[29]:1\n  foo(x, y::Int64) in Main at In[29]:2\nPossible fix, define\n  foo(::Int64, ::Int64)",
      "",
      "Stacktrace:",
      " [1] top-level scope",
      "   @ In[30]:1"
     ]
    }
   ],
   "source": [
    "foo(1, 1)"
   ]
  },
  {
   "cell_type": "markdown",
   "id": "ea398b13",
   "metadata": {},
   "source": [
    "Heureusement, les messages d'erreur sont très compréhensible, il suffit de définir la méthode\n",
    "```\n",
    "foo(x::Int, y::Int)\n",
    "```\n",
    "pour lever l'indétermination...\n",
    "\n",
    "# Types de données\n",
    "\n",
    "Il existe plusieurs types de données, dont la liste est présentée dans la [page dédiée](https://docs.julialang.org/en/v1/manual/types/) de la [documentation officielle](https://docs.julialang.org/) (très bien écrite, soit dit en passant).\n",
    "\n",
    "On y reviendra dans quelques instants."
   ]
  },
  {
   "cell_type": "code",
   "execution_count": null,
   "id": "9fc2c39c",
   "metadata": {},
   "outputs": [],
   "source": []
  }
 ],
 "metadata": {
  "kernelspec": {
   "display_name": "Julia 1.8.5",
   "language": "julia",
   "name": "julia-1.8"
  },
  "language_info": {
   "file_extension": ".jl",
   "mimetype": "application/julia",
   "name": "julia",
   "version": "1.8.5"
  }
 },
 "nbformat": 4,
 "nbformat_minor": 5
}
