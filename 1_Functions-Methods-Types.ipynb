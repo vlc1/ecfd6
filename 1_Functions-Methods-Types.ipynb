{
 "cells": [
  {
   "cell_type": "markdown",
   "id": "aff646da",
   "metadata": {},
   "source": [
    "# Functions and methods\n",
    "\n",
    "To create a new function in Julia,"
   ]
  },
  {
   "cell_type": "code",
   "execution_count": 1,
   "id": "8505d780",
   "metadata": {},
   "outputs": [
    {
     "data": {
      "text/plain": [
       "hello (generic function with 0 methods)"
      ]
     },
     "execution_count": 1,
     "metadata": {},
     "output_type": "execute_result"
    }
   ],
   "source": [
    "function hello end"
   ]
  },
  {
   "cell_type": "markdown",
   "id": "ac4b9385",
   "metadata": {},
   "source": [
    "As seen in the return of the previous cell, `hello` has no **method**. Before adding any, let us review the different kinds of arguments one can use to pass objects to Julia functions:\n",
    "\n",
    "1. *Positional* arguments, identified by their position,\n",
    "1. *Optional* arguments, that come **after** the positional arguments and take default values,\n",
    "1. *Keyword* arguments, placed after the `;` (*semi-colon*) symbol in the argument tuple.\n",
    "\n",
    "To add a method that corresponds to `hello` being called with no argument, type:"
   ]
  },
  {
   "cell_type": "code",
   "execution_count": 2,
   "id": "5dd9256b",
   "metadata": {},
   "outputs": [
    {
     "data": {
      "text/plain": [
       "hello (generic function with 1 method)"
      ]
     },
     "execution_count": 2,
     "metadata": {},
     "output_type": "execute_result"
    }
   ],
   "source": [
    "# 0-argument\n",
    "function hello()\n",
    "    println(\"Hello, World!\")\n",
    "end"
   ]
  },
  {
   "cell_type": "markdown",
   "id": "f6aaca65",
   "metadata": {},
   "source": [
    "This function is called below."
   ]
  },
  {
   "cell_type": "code",
   "execution_count": 3,
   "id": "58ab73f0",
   "metadata": {},
   "outputs": [
    {
     "name": "stdout",
     "output_type": "stream",
     "text": [
      "Hello, World!\n"
     ]
    }
   ],
   "source": [
    "hello()"
   ]
  },
  {
   "cell_type": "markdown",
   "id": "4ae00dc5",
   "metadata": {},
   "source": [
    "At first, it looks like running `hello()` returned no object, but it does: in Julia, the returned value is the return value of the last line (here the result of `println(\"Hello, World!\")` unless a `return` statement is explicitly executed."
   ]
  },
  {
   "cell_type": "code",
   "execution_count": 4,
   "id": "faba6d75",
   "metadata": {},
   "outputs": [
    {
     "name": "stdout",
     "output_type": "stream",
     "text": [
      "Hello, World!\n"
     ]
    },
    {
     "data": {
      "text/plain": [
       "Nothing"
      ]
     },
     "execution_count": 4,
     "metadata": {},
     "output_type": "execute_result"
    }
   ],
   "source": [
    "typeof(println(\"Hello, World!\"))"
   ]
  },
  {
   "cell_type": "markdown",
   "id": "658b36e3",
   "metadata": {},
   "source": [
    "In other words, the 0-argument method added to the function `hello` is equivalent to\n",
    "```julia\n",
    "function hello()\n",
    "    return println(\"Hello, World!\")\n",
    "end\n",
    "```\n",
    "\n",
    "<div class=\"alert alert-block alert-info\">\n",
    "<b>Warning</b>: This behavior can be a source of bugs when coming from the C/Fortran world. Other control statements can be used, such as <tt>continue</tt> and <tt>break</tt>.\n",
    "</div>\n",
    "\n",
    "This means that `println` returns an object of type `Nothing`. In fact, `Nothing` is a special kind a type, referred to as a *singleton type*, meaning that it's a type with a single instance. This instance is associated with the symbol `nothing` somewhere in the Julia `Base` module, with the following line somewhere\n",
    "```julia\n",
    "const nothing = Nothing()\n",
    "```\n",
    "\n",
    "The function `hello` also has a *singleton* type that inherents from the `Function` subtype."
   ]
  },
  {
   "cell_type": "code",
   "execution_count": 5,
   "id": "df915a64",
   "metadata": {},
   "outputs": [
    {
     "data": {
      "text/plain": [
       "typeof(hello) (singleton type of function hello, subtype of Function)"
      ]
     },
     "execution_count": 5,
     "metadata": {},
     "output_type": "execute_result"
    }
   ],
   "source": [
    "typeof(hello)"
   ]
  },
  {
   "cell_type": "markdown",
   "id": "cc5ad0cb",
   "metadata": {},
   "source": [
    "The function `hello`  fonction `hello` est de type `typeof(hello)`, un type *singleton* qui hérite du type `Function`.\n",
    "\n",
    "The type `Function` is an abstract type, which itself inherits from `Any`:\n",
    "```\n",
    "abstract type Function <: Any end\n",
    "```\n",
    "\n",
    "Being abstract, it can't be instantiated. Furthermore, in Julia, a type (concrete or abstract) can inherent from a single abstract type (or none).\n",
    "\n",
    "<div class=\"alert alert-block alert-info\">\n",
    "    <b>Info</b>: This limitation, which greatly simplifies the dispatch mechanism, is actually not all that bad. In fact, one can use traits (<i>Holy traits</i>) to factor code that is inherit from different abstract types. These traits are also implemented by another special type, called <tt>Type</tt>.\n",
    "</div>\n",
    "\n",
    "Finally, one could have defined the `hello` function with a 0-argument method as follows (note the use of *upper cases*, reserved for type and module names in Julia)."
   ]
  },
  {
   "cell_type": "code",
   "execution_count": 6,
   "id": "82a5e02d",
   "metadata": {},
   "outputs": [
    {
     "data": {
      "text/plain": [
       "(::Bonjour) (generic function with 1 method)"
      ]
     },
     "execution_count": 6,
     "metadata": {},
     "output_type": "execute_result"
    }
   ],
   "source": [
    "struct Bonjour <: Function end\n",
    "\n",
    "const bonjour = Bonjour()\n",
    "\n",
    "bonjour() = println(\"Bonjour tout le monde !\")"
   ]
  },
  {
   "cell_type": "code",
   "execution_count": 7,
   "id": "7d188435",
   "metadata": {},
   "outputs": [
    {
     "name": "stdout",
     "output_type": "stream",
     "text": [
      "Bonjour tout le monde !\n"
     ]
    }
   ],
   "source": [
    "bonjour()"
   ]
  },
  {
   "cell_type": "code",
   "execution_count": 8,
   "id": "954fcc71",
   "metadata": {},
   "outputs": [
    {
     "data": {
      "text/plain": [
       "Bonjour"
      ]
     },
     "execution_count": 8,
     "metadata": {},
     "output_type": "execute_result"
    }
   ],
   "source": [
    "typeof(bonjour)"
   ]
  },
  {
   "cell_type": "markdown",
   "id": "4827f72a",
   "metadata": {},
   "source": [
    "To add more methods to `hello` (note the one-line syntax, equivalent to the one with the `function`... `end` but very handy for short functions):"
   ]
  },
  {
   "cell_type": "code",
   "execution_count": 9,
   "id": "5b062b69",
   "metadata": {},
   "outputs": [
    {
     "data": {
      "text/plain": [
       "hello (generic function with 3 methods)"
      ]
     },
     "execution_count": 9,
     "metadata": {},
     "output_type": "execute_result"
    }
   ],
   "source": [
    "hello(x) = println(\"Hello, $(x)!\")\n",
    "hello(x, y) = println(\"Hello, $(x) and $(y)!\")"
   ]
  },
  {
   "cell_type": "markdown",
   "id": "571e01e2",
   "metadata": {},
   "source": [
    "The interpolation operator (`$`) converts the reference object to a string object (type `String`) and substitutes it. One can generalize this behavior using a variadic function (note the concatenation of strings performed by the `*` function):"
   ]
  },
  {
   "cell_type": "code",
   "execution_count": 10,
   "id": "f9c6fcaa",
   "metadata": {},
   "outputs": [
    {
     "data": {
      "text/plain": [
       "hello (generic function with 4 methods)"
      ]
     },
     "execution_count": 10,
     "metadata": {},
     "output_type": "execute_result"
    }
   ],
   "source": [
    "hello(x...) = println(\"Hello, \" * \"$(join(Base.front(x), \", \")) and $(Base.last(x))!\")"
   ]
  },
  {
   "cell_type": "code",
   "execution_count": 11,
   "id": "86acba1f",
   "metadata": {},
   "outputs": [
    {
     "name": "stdout",
     "output_type": "stream",
     "text": [
      "Hello, Pierre, Paul and Jacques!\n"
     ]
    }
   ],
   "source": [
    "hello(\"Pierre\", \"Paul\", \"Jacques\")"
   ]
  },
  {
   "cell_type": "markdown",
   "id": "c5cfc6c4",
   "metadata": {},
   "source": [
    "<div class=\"alert alert-block alert-info\">\n",
    "<b>Info</b>: We've only used positional arguments thus far, optional and keyword arguments are left for another time.\n",
    "</div>"
   ]
  },
  {
   "cell_type": "markdown",
   "id": "bd0fce91",
   "metadata": {},
   "source": [
    "# Multiple dispatch\n",
    "\n",
    "So far, no type annotations have been used. **That does not mean that objects have no type in Julia**, as was seen in the `typeof(hello)` and `typeof(bonjour)` examples above. For example:"
   ]
  },
  {
   "cell_type": "code",
   "execution_count": 12,
   "id": "6e482dcc",
   "metadata": {},
   "outputs": [
    {
     "data": {
      "text/plain": [
       "Float64"
      ]
     },
     "execution_count": 12,
     "metadata": {},
     "output_type": "execute_result"
    }
   ],
   "source": [
    "x = 1.\n",
    "typeof(x)"
   ]
  },
  {
   "cell_type": "markdown",
   "id": "0824a6fb",
   "metadata": {},
   "source": [
    "If one wishes to use a particular type, its constructor can be invoked explicitly. For example, to associate the symbol `y` with a half-precision version of Pi"
   ]
  },
  {
   "cell_type": "code",
   "execution_count": 13,
   "id": "88735919",
   "metadata": {},
   "outputs": [
    {
     "data": {
      "text/plain": [
       "Irrational{:π}"
      ]
     },
     "execution_count": 13,
     "metadata": {},
     "output_type": "execute_result"
    }
   ],
   "source": [
    "typeof(π)"
   ]
  },
  {
   "cell_type": "code",
   "execution_count": 14,
   "id": "8c88eb2f",
   "metadata": {},
   "outputs": [
    {
     "data": {
      "text/plain": [
       "Float16(3.14)"
      ]
     },
     "execution_count": 14,
     "metadata": {},
     "output_type": "execute_result"
    }
   ],
   "source": [
    "y = Float16(π)"
   ]
  },
  {
   "cell_type": "markdown",
   "id": "340ae293",
   "metadata": {},
   "source": [
    "Here, the irrational number Pii was converted to `Float16` through the [promotion and conversion](https://docs.julialang.org/en/v1/manual/conversion-and-promotion/) mechanism.\n",
    "\n",
    "To improve composability however, a implicit rule in Julia is to avoid type too strictly. Indeed, if a method is initially implemented for a `Float16`, it's very likely that it will work for `Float32`, `Float64`, maybe `Int32` or even... `Complex{Float32}`, `Complex{Float64}`...\n",
    "\n",
    "As a matter of fact, all of them are subtypes of `Number`, so one could define the cubic power function as done below."
   ]
  },
  {
   "cell_type": "code",
   "execution_count": 15,
   "id": "43ca85d3",
   "metadata": {},
   "outputs": [
    {
     "data": {
      "text/plain": [
       "cube (generic function with 1 method)"
      ]
     },
     "execution_count": 15,
     "metadata": {},
     "output_type": "execute_result"
    }
   ],
   "source": [
    "cube(x::Number) = x ^ 3"
   ]
  },
  {
   "cell_type": "markdown",
   "id": "9777cff2",
   "metadata": {},
   "source": [
    "This function will work for irrational and complex numbers..."
   ]
  },
  {
   "cell_type": "code",
   "execution_count": 16,
   "id": "c8b3bf3e",
   "metadata": {},
   "outputs": [
    {
     "data": {
      "text/plain": [
       "(8//27, 0 - 1im)"
      ]
     },
     "execution_count": 16,
     "metadata": {},
     "output_type": "execute_result"
    }
   ],
   "source": [
    "cube(2//3), cube(im)"
   ]
  },
  {
   "cell_type": "markdown",
   "id": "af1164d8",
   "metadata": {},
   "source": [
    "however it won't work for strings..."
   ]
  },
  {
   "cell_type": "code",
   "execution_count": 17,
   "id": "f6adabdf",
   "metadata": {},
   "outputs": [
    {
     "ename": "LoadError",
     "evalue": "MethodError: no method matching cube(::String)\n\u001b[0mClosest candidates are:\n\u001b[0m  cube(\u001b[91m::Number\u001b[39m) at In[15]:1",
     "output_type": "error",
     "traceback": [
      "MethodError: no method matching cube(::String)\n\u001b[0mClosest candidates are:\n\u001b[0m  cube(\u001b[91m::Number\u001b[39m) at In[15]:1",
      "",
      "Stacktrace:",
      " [1] top-level scope",
      "   @ In[17]:1"
     ]
    }
   ],
   "source": [
    "cube(\"Ho ! \")"
   ]
  },
  {
   "cell_type": "markdown",
   "id": "332cd850",
   "metadata": {},
   "source": [
    "... even though `^` is defined for `String` when the exponent is `<: Integer`. Too bad!"
   ]
  },
  {
   "cell_type": "code",
   "execution_count": 18,
   "id": "ac95eb86",
   "metadata": {},
   "outputs": [
    {
     "data": {
      "text/plain": [
       "\"Ho ! Ho ! Ho ! \""
      ]
     },
     "execution_count": 18,
     "metadata": {},
     "output_type": "execute_result"
    }
   ],
   "source": [
    "\"Ho ! \" ^ 3"
   ]
  },
  {
   "cell_type": "markdown",
   "id": "1bf8f64b",
   "metadata": {},
   "source": [
    "One could have allowed it by relaxing the type to\n",
    "```\n",
    "cube(x::Union{Number,String}) = x ^ 3\n",
    "```\n",
    "or... Not type at all!\n",
    "\n",
    "But what happens when multiple methods are applicable? The method to call is determined through a set of well-defined rules that are exposed in:\n",
    "\n",
    "<div class=\"csl-entry\">Nardelli, F. Z., Belyakova, J., Pelenitsyn, A., Chung, B., Bezanson, J., &#38; Vitek, J. (2018). Julia subtyping: a rational reconstruction. <i>Proceedings of the ACM on Programming Languages</i>, <i>2</i>(OOPSLA), 27. https://doi.org/10.1145/3276483</div>\n",
    "\n",
    "But some cases may still be undertermined, for example:"
   ]
  },
  {
   "cell_type": "code",
   "execution_count": 19,
   "id": "a705e2f0",
   "metadata": {},
   "outputs": [
    {
     "data": {
      "text/plain": [
       "foo (generic function with 2 methods)"
      ]
     },
     "execution_count": 19,
     "metadata": {},
     "output_type": "execute_result"
    }
   ],
   "source": [
    "foo(x::Int, y) = 2x + y\n",
    "foo(x, y::Int) = x + 2y"
   ]
  },
  {
   "cell_type": "markdown",
   "id": "882c29ac",
   "metadata": {},
   "source": [
    "So what happens if both arguments are `Int`s?"
   ]
  },
  {
   "cell_type": "code",
   "execution_count": 20,
   "id": "9cee812b",
   "metadata": {},
   "outputs": [
    {
     "ename": "LoadError",
     "evalue": "MethodError: foo(::Int64, ::Int64) is ambiguous. Candidates:\n  foo(x::Int64, y) in Main at In[19]:1\n  foo(x, y::Int64) in Main at In[19]:2\nPossible fix, define\n  foo(::Int64, ::Int64)",
     "output_type": "error",
     "traceback": [
      "MethodError: foo(::Int64, ::Int64) is ambiguous. Candidates:\n  foo(x::Int64, y) in Main at In[19]:1\n  foo(x, y::Int64) in Main at In[19]:2\nPossible fix, define\n  foo(::Int64, ::Int64)",
      "",
      "Stacktrace:",
      " [1] top-level scope",
      "   @ In[20]:1"
     ]
    }
   ],
   "source": [
    "foo(1, 1)"
   ]
  },
  {
   "cell_type": "markdown",
   "id": "ea398b13",
   "metadata": {},
   "source": [
    "Fortunately, the error message is pretty descriptive, and indeed adding a method with the following signature solves the problem.\n",
    "```\n",
    "foo(x::Int, y::Int)\n",
    "```\n",
    "\n",
    "# Data types\n",
    "\n",
    "There exists a handful of data types, the list of which is presented on the [dedicated page](https://docs.julialang.org/en/v1/manual/types/) from the [official documentation](https://docs.julialang.org/)."
   ]
  },
  {
   "cell_type": "code",
   "execution_count": null,
   "id": "cd4d141f",
   "metadata": {},
   "outputs": [],
   "source": []
  }
 ],
 "metadata": {
  "kernelspec": {
   "display_name": "Julia 1.8.5",
   "language": "julia",
   "name": "julia-1.8"
  },
  "language_info": {
   "file_extension": ".jl",
   "mimetype": "application/julia",
   "name": "julia",
   "version": "1.8.5"
  }
 },
 "nbformat": 4,
 "nbformat_minor": 5
}
