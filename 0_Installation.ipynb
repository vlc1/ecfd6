{
 "cells": [
  {
   "cell_type": "markdown",
   "id": "b9f58a58",
   "metadata": {},
   "source": [
    "L'installation de Julia peut se faire de différentes manières :\n",
    "\n",
    "- À partir des sources ou de binaires obtenu dans la rubrique [Downloads](https://julialang.org/downloads/) du [site officiel](https://julialang.org/) du langage ;\n",
    "- Par l'intermédiaire de [Juliaup](https://github.com/JuliaLang/juliaup), un multiplexer qui permet d'installer différentes versions de Julia et de les laisser coexister sans aucun problème.\n",
    "\n",
    "Je recommande personnellement cette dernière option (**Juliaup**), qui simplifie les mises à jour et l'intégration d'autres environnements (Jupyter, Quarto...).\n",
    "\n",
    "<div class=\"alert alert-block alert-info\">\n",
    "<b>Info</b> : la première version de Julia <a href=\"https://julialang.org/blog/2018/08/one-point-zero/\">a été annoncée en août 2018</a> (v1.0). Toutes les versions qui ont suivies (on en est bientôt à la v1.9) sont toutes rétrocompatibles, et les *core developers* (la plupart à <a href=\"https://juliahub.com/\">JuliaHub</a>, anciennement Julia Computing) n'ont <strong>aucune intention de lancer une v2.0</strong>.\n",
    "</div>\n",
    "\n",
    "Autrement dit, le langage est stable et il n'y a à l'heure actuelle aucune raison suffisante pour le faire évoluer. Les apports des différentes versions 1.x sont notamment au niveau de la compilation (gains de performances significatifs) ou en lien avec le développement de fonctionnalités avancées (*differential programming* notamment)."
   ]
  },
  {
   "cell_type": "markdown",
   "id": "d7f4b371",
   "metadata": {},
   "source": [
    "# Juliaup\n",
    "\n",
    "## Installation\n",
    "\n",
    "Sur **Windows**, depuis la Microsoft store il suffit de cherche \"Julia\" et d'installer l'application (c'est en fait Juliaup qui est installer). On peut aussi le faire via la commande\n",
    "```bash\n",
    "winget install julia -s msstore\n",
    "```\n",
    "\n",
    "Sur **Linux**/**Mac OS X**, un script d'installation est disponible sur le site officiel qu'on peut exécuter comme suit\n",
    "```bash\n",
    "curl -fsSL https://install.julialang.org | sh\n",
    "```\n",
    "\n",
    "D'autres options sont possibles, voir le [README.md du projet](https://github.com/JuliaLang/juliaup/blob/main/README.md).\n",
    "\n",
    "## Utilisation\n",
    "\n",
    "Juliaup permet donc d'installer les versions taggées de Julia (y compris les RC, alpha, beta, patch...).\n",
    "\n",
    "Parmi les commandes les plus utiles,\n",
    "\n",
    "- Pour lister les versions (*channels*) disponibles ;\n",
    "    ```bash\n",
    "    juliaup list\n",
    "    ```\n",
    "- Pour installer une version ;\n",
    "    ```bash\n",
    "    juliaup add [VERSION]\n",
    "    ```\n",
    "- Pour configurer la commande `julia` à utiliser une version spécifique.\n",
    "    ```bash\n",
    "    juliaup default [VERSION]\n",
    "    ```\n"
   ]
  },
  {
   "cell_type": "markdown",
   "id": "9df2adb5",
   "metadata": {},
   "source": [
    "# Jupyter\n",
    "\n",
    "Julia est maintenant installé sur votre machine. Il existe différentes manières d'exécuter du code Julia :\n",
    "\n",
    "- En utilisant la console Julia, aussi appelée [*command-line REPL*](https://docs.julialang.org/en/v1/stdlib/REPL/) pour *Read*-*Eval*-*Print* *Loop*) ;\n",
    "- L'exécution de scripts\n",
    "    ```bash\n",
    "    julia script.jl\n",
    "    ```\n",
    "- Via un *notebook* : Julia possède son propre système de *notebook* ([Pluto](https://github.com/fonsp/Pluto.jl)) mais nous utiliserons Jupyter dont l'usage est plus répandu. **C'est la solution qu'on privilégiera aujourd'hui**.\n",
    "\n",
    "<div class=\"alert alert-block alert-info\">\n",
    "<b>Info</b> : l'utilisation d'un MPI *launcher* ne peut se faire que via la *command-line*\n",
    "<pre>\n",
    "mpirun -np 4 julia script.jl\n",
    "</pre>\n",
    "</div>\n",
    "\n",
    "## Installation\n",
    "\n",
    "L'utilisation de Julia dans nos *notebook* Jupyter se fait par l'installation du noyau [IJulia](https://github.com/JuliaLang/IJulia.jl). `IJulia` est tout simplement un *package* Julia qui s'installe via le *package manager*. Pour ce faire, simplement exécuter la commande\n",
    "```bash\n",
    "julia -e 'using Pkg; Pkg.add(\"IJulia\")'\n",
    "```\n",
    "ou démarrer le Julia REPL, basculer dans le mode Pkg (en tapant le caractère \"fermeture de crochet\", `]`), exécuter\n",
    "```\n",
    "pkg> add IJulia\n",
    "```\n",
    "\n",
    "## Utilisation\n",
    "\n",
    "Avant toute chose, le mieux est peut-être de clôner le dépot où se trouvent ce notebook\n",
    "```bash\n",
    "git clone https://github.com/vlc1/ecfd6\n",
    "cd ecfd6\n",
    "```\n",
    "\n",
    "On pourra ensuite démarrer Jupyter soit depuis la ligne de commande,\n",
    "```bash\n",
    "julia -e 'using IJulia; notebook(dir=pwd(), detached=true)'\n",
    "```\n",
    "soit depuis le Julia REPL (une fois démarer, *backspace* pour revenir en mode Julia si vous étiez en mode Pkg)\n",
    "```\n",
    "julia> using IJulia\n",
    "\n",
    "julia> notebook(dir=pwd(), detached=true)\n",
    "\n",
    "```\n",
    "\n",
    "Si tout se passe bien, la page d'accueil de Jupyter devrait maintenant s'afficher dans votre navigateur par défaut... Et vous devriez pour exécuter votre premier code Julia..."
   ]
  },
  {
   "cell_type": "code",
   "execution_count": 4,
   "id": "649d026f",
   "metadata": {},
   "outputs": [
    {
     "data": {
      "text/plain": [
       "hello (generic function with 2 methods)"
      ]
     },
     "execution_count": 4,
     "metadata": {},
     "output_type": "execute_result"
    }
   ],
   "source": [
    "hello(name=\"World\") = println(\"Hello, $(name)!\")"
   ]
  },
  {
   "cell_type": "code",
   "execution_count": 6,
   "id": "862a3e93",
   "metadata": {},
   "outputs": [
    {
     "name": "stdout",
     "output_type": "stream",
     "text": [
      "Hello, World!\n"
     ]
    }
   ],
   "source": [
    "hello()"
   ]
  },
  {
   "cell_type": "code",
   "execution_count": 5,
   "id": "3f64a565",
   "metadata": {},
   "outputs": [
    {
     "name": "stdout",
     "output_type": "stream",
     "text": [
      "Hello, ECFD6!\n"
     ]
    }
   ],
   "source": [
    "hello(\"ECFD6\")"
   ]
  },
  {
   "cell_type": "code",
   "execution_count": null,
   "id": "e5c91842",
   "metadata": {},
   "outputs": [],
   "source": []
  }
 ],
 "metadata": {
  "kernelspec": {
   "display_name": "Julia 1.8.5",
   "language": "julia",
   "name": "julia-1.8"
  },
  "language_info": {
   "file_extension": ".jl",
   "mimetype": "application/julia",
   "name": "julia",
   "version": "1.8.5"
  }
 },
 "nbformat": 4,
 "nbformat_minor": 5
}
